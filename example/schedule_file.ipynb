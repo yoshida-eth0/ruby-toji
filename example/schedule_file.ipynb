{
 "cells": [
  {
   "cell_type": "code",
   "execution_count": 3,
   "metadata": {
    "scrolled": false
   },
   "outputs": [
    {
     "name": "stdout",
     "output_type": "stream",
     "text": [
      "仕1 姫野国夫による酒母省略仕込\n"
     ]
    },
    {
     "data": {
      "text/html": [
       "\n",
       "  <script>\n",
       "  requirejs.config({paths: { 'plotly': ['https://cdn.plot.ly/plotly-latest.min'] }})\n",
       "  </script>\n",
       "\n",
       "\n",
       "<div id=\"39130064-7a13-4f3e-b33a-3bc1b965112b\" style=\"height: 100%; width: 100%;\"></div>\n",
       "\n",
       "<script>\n",
       " require(['plotly'], function(Plotly) { \n",
       "Plotly.newPlot(\n",
       "  '39130064-7a13-4f3e-b33a-3bc1b965112b',\n",
       "  [{\"type\":\"table\",\"header\":{\"values\":[\"\",\"moto\",\"soe\",\"naka\",\"tome\",\"yodan\",\"total\"]},\"cells\":{\"values\":[[\"rice_total\",\"rice\",\"koji\",\"alcohol\",\"water\",\"lactic_acid\"],[35.0,\"\",35.0,\"\",123.0,0.8],[65.0,65.0,\"\",\"\",\"\",\"\"],[200.0,150.0,50.0,\"\",200.0,\"\"],[300.0,245.0,55.0,\"\",400.0,\"\"],[\"\",\"\",\"\",\"\",128.0,\"\"],[600.0,460.0,140.0,\"\",851.0,0.8]]}}],\n",
       "  {\"height\":350},\n",
       "  {\"linkText\":\"Export to plot.ly\",\"showLink\":true}\n",
       ")\n",
       "\n",
       "window.addEventListener('resize', function() {\n",
       "  Plotly.Plots.resize(document.getElementById('39130064-7a13-4f3e-b33a-3bc1b965112b'))\n",
       "})\n",
       " }) \n",
       "</script>"
      ],
      "text/plain": [
       "#<Plotly::Offline::HTML:0x00007f9f66a736d8 @id=\"39130064-7a13-4f3e-b33a-3bc1b965112b\", @data=[{:type=>:table, :header=>{:values=>[\"\", :moto, :soe, :naka, :tome, :yodan, :total]}, :cells=>{:values=>[[:rice_total, :rice, :koji, :alcohol, :water, :lactic_acid], [35.0, \"\", 35.0, \"\", 123.0, 0.8], [65.0, 65.0, \"\", \"\", \"\", \"\"], [200.0, 150.0, 50.0, \"\", 200.0, \"\"], [300.0, 245.0, 55.0, \"\", 400.0, \"\"], [\"\", \"\", \"\", \"\", 128.0, \"\"], [600.0, 460.0, 140.0, \"\", 851.0, 0.8]]}}], @layout={:height=>350}, @config={:linkText=>\"Export to plot.ly\", :showLink=>true}, @embedded=true>"
      ]
     },
     "metadata": {},
     "output_type": "display_data"
    },
    {
     "name": "stdout",
     "output_type": "stream",
     "text": [
      "仕2 姫野国夫による酒母省略仕込\n"
     ]
    },
    {
     "data": {
      "text/html": [
       "\n",
       "  <script>\n",
       "  requirejs.config({paths: { 'plotly': ['https://cdn.plot.ly/plotly-latest.min'] }})\n",
       "  </script>\n",
       "\n",
       "\n",
       "<div id=\"2ed48f7b-70a7-4bd1-ae81-828cbfa7f566\" style=\"height: 100%; width: 100%;\"></div>\n",
       "\n",
       "<script>\n",
       " require(['plotly'], function(Plotly) { \n",
       "Plotly.newPlot(\n",
       "  '2ed48f7b-70a7-4bd1-ae81-828cbfa7f566',\n",
       "  [{\"type\":\"table\",\"header\":{\"values\":[\"\",\"moto\",\"soe\",\"naka\",\"tome\",\"yodan\",\"total\"]},\"cells\":{\"values\":[[\"rice_total\",\"rice\",\"koji\",\"alcohol\",\"water\",\"lactic_acid\"],[32.0,\"\",32.0,\"\",112.0,0.733],[60.0,60.0,\"\",\"\",\"\",\"\"],[184.0,138.0,46.0,\"\",183.0,\"\"],[275.0,225.0,50.0,\"\",367.0,\"\"],[\"\",\"\",\"\",\"\",117.0,\"\"],[551.0,423.0,128.0,\"\",779.0,0.733]]}}],\n",
       "  {\"height\":350},\n",
       "  {\"linkText\":\"Export to plot.ly\",\"showLink\":true}\n",
       ")\n",
       "\n",
       "window.addEventListener('resize', function() {\n",
       "  Plotly.Plots.resize(document.getElementById('2ed48f7b-70a7-4bd1-ae81-828cbfa7f566'))\n",
       "})\n",
       " }) \n",
       "</script>"
      ],
      "text/plain": [
       "#<Plotly::Offline::HTML:0x00007f9f66aa4418 @id=\"2ed48f7b-70a7-4bd1-ae81-828cbfa7f566\", @data=[{:type=>:table, :header=>{:values=>[\"\", :moto, :soe, :naka, :tome, :yodan, :total]}, :cells=>{:values=>[[:rice_total, :rice, :koji, :alcohol, :water, :lactic_acid], [32.0, \"\", 32.0, \"\", 112.0, 0.733], [60.0, 60.0, \"\", \"\", \"\", \"\"], [184.0, 138.0, 46.0, \"\", 183.0, \"\"], [275.0, 225.0, 50.0, \"\", 367.0, \"\"], [\"\", \"\", \"\", \"\", 117.0, \"\"], [551.0, 423.0, 128.0, \"\", 779.0, 0.733]]}}], @layout={:height=>350}, @config={:linkText=>\"Export to plot.ly\", :showLink=>true}, @embedded=true>"
      ]
     },
     "metadata": {},
     "output_type": "display_data"
    },
    {
     "name": "stdout",
     "output_type": "stream",
     "text": [
      "仕3 灘における仕込配合\n"
     ]
    },
    {
     "data": {
      "text/html": [
       "\n",
       "  <script>\n",
       "  requirejs.config({paths: { 'plotly': ['https://cdn.plot.ly/plotly-latest.min'] }})\n",
       "  </script>\n",
       "\n",
       "\n",
       "<div id=\"7798a74d-847a-4159-ba5c-50680a26309e\" style=\"height: 100%; width: 100%;\"></div>\n",
       "\n",
       "<script>\n",
       " require(['plotly'], function(Plotly) { \n",
       "Plotly.newPlot(\n",
       "  '7798a74d-847a-4159-ba5c-50680a26309e',\n",
       "  [{\"type\":\"table\",\"header\":{\"values\":[\"\",\"moto\",\"soe\",\"naka\",\"tome\",\"alcohol\",\"total\"]},\"cells\":{\"values\":[[\"rice_total\",\"rice\",\"koji\",\"alcohol\",\"water\",\"lactic_acid\"],[63.0,42.0,21.0,\"\",77.0,0.524],[143.0,98.0,45.0,\"\",122.0,\"\"],[254.0,190.0,64.0,\"\",302.0,\"\"],[440.0,366.0,74.0,\"\",599.0,\"\"],[\"\",\"\",\"\",405.0,\"\",\"\"],[900.0,696.0,204.0,405.0,1100.0,0.524]]}}],\n",
       "  {\"height\":350},\n",
       "  {\"linkText\":\"Export to plot.ly\",\"showLink\":true}\n",
       ")\n",
       "\n",
       "window.addEventListener('resize', function() {\n",
       "  Plotly.Plots.resize(document.getElementById('7798a74d-847a-4159-ba5c-50680a26309e'))\n",
       "})\n",
       " }) \n",
       "</script>"
      ],
      "text/plain": [
       "#<Plotly::Offline::HTML:0x00007f9f64356190 @id=\"7798a74d-847a-4159-ba5c-50680a26309e\", @data=[{:type=>:table, :header=>{:values=>[\"\", :moto, :soe, :naka, :tome, :alcohol, :total]}, :cells=>{:values=>[[:rice_total, :rice, :koji, :alcohol, :water, :lactic_acid], [63.0, 42.0, 21.0, \"\", 77.0, 0.524], [143.0, 98.0, 45.0, \"\", 122.0, \"\"], [254.0, 190.0, 64.0, \"\", 302.0, \"\"], [440.0, 366.0, 74.0, \"\", 599.0, \"\"], [\"\", \"\", \"\", 405.0, \"\", \"\"], [900.0, 696.0, 204.0, 405.0, 1100.0, 0.524]]}}], @layout={:height=>350}, @config={:linkText=>\"Export to plot.ly\", :showLink=>true}, @embedded=true>"
      ]
     },
     "metadata": {},
     "output_type": "display_data"
    },
    {
     "name": "stdout",
     "output_type": "stream",
     "text": [
      "仕4 酒造教本による標準型仕込配合\n"
     ]
    },
    {
     "data": {
      "text/html": [
       "\n",
       "  <script>\n",
       "  requirejs.config({paths: { 'plotly': ['https://cdn.plot.ly/plotly-latest.min'] }})\n",
       "  </script>\n",
       "\n",
       "\n",
       "<div id=\"24cc1c11-7b4e-4d22-99f6-e83c76860db3\" style=\"height: 100%; width: 100%;\"></div>\n",
       "\n",
       "<script>\n",
       " require(['plotly'], function(Plotly) { \n",
       "Plotly.newPlot(\n",
       "  '24cc1c11-7b4e-4d22-99f6-e83c76860db3',\n",
       "  [{\"type\":\"table\",\"header\":{\"values\":[\"\",\"moto\",\"soe\",\"naka\",\"tome\",\"yodan\",\"total\"]},\"cells\":{\"values\":[[\"rice_total\",\"rice\",\"koji\",\"alcohol\",\"water\",\"lactic_acid\"],[59.0,41.0,18.0,\"\",63.0,0.432],[126.0,90.0,36.0,\"\",117.0,\"\"],[248.0,194.0,54.0,\"\",297.0,\"\"],[396.0,324.0,72.0,\"\",567.0,\"\"],[72.0,72.0,\"\",\"\",108.0,\"\"],[901.0,721.0,180.0,\"\",1152.0,0.432]]}}],\n",
       "  {\"height\":350},\n",
       "  {\"linkText\":\"Export to plot.ly\",\"showLink\":true}\n",
       ")\n",
       "\n",
       "window.addEventListener('resize', function() {\n",
       "  Plotly.Plots.resize(document.getElementById('24cc1c11-7b4e-4d22-99f6-e83c76860db3'))\n",
       "})\n",
       " }) \n",
       "</script>"
      ],
      "text/plain": [
       "#<Plotly::Offline::HTML:0x00007f9f643864f8 @id=\"24cc1c11-7b4e-4d22-99f6-e83c76860db3\", @data=[{:type=>:table, :header=>{:values=>[\"\", :moto, :soe, :naka, :tome, :yodan, :total]}, :cells=>{:values=>[[:rice_total, :rice, :koji, :alcohol, :water, :lactic_acid], [59.0, 41.0, 18.0, \"\", 63.0, 0.432], [126.0, 90.0, 36.0, \"\", 117.0, \"\"], [248.0, 194.0, 54.0, \"\", 297.0, \"\"], [396.0, 324.0, 72.0, \"\", 567.0, \"\"], [72.0, 72.0, \"\", \"\", 108.0, \"\"], [901.0, 721.0, 180.0, \"\", 1152.0, 0.432]]}}], @layout={:height=>350}, @config={:linkText=>\"Export to plot.ly\", :showLink=>true}, @embedded=true>"
      ]
     },
     "metadata": {},
     "output_type": "display_data"
    },
    {
     "name": "stdout",
     "output_type": "stream",
     "text": [
      "仕5 灘における仕込配合\n"
     ]
    },
    {
     "data": {
      "text/html": [
       "\n",
       "  <script>\n",
       "  requirejs.config({paths: { 'plotly': ['https://cdn.plot.ly/plotly-latest.min'] }})\n",
       "  </script>\n",
       "\n",
       "\n",
       "<div id=\"ca599c2f-3651-4ffa-81c5-47869735f251\" style=\"height: 100%; width: 100%;\"></div>\n",
       "\n",
       "<script>\n",
       " require(['plotly'], function(Plotly) { \n",
       "Plotly.newPlot(\n",
       "  'ca599c2f-3651-4ffa-81c5-47869735f251',\n",
       "  [{\"type\":\"table\",\"header\":{\"values\":[\"\",\"moto\",\"soe\",\"naka\",\"tome\",\"alcohol\",\"total\"]},\"cells\":{\"values\":[[\"rice_total\",\"rice\",\"koji\",\"alcohol\",\"water\",\"lactic_acid\"],[63.0,42.0,21.0,\"\",77.0,0.524],[143.0,98.0,45.0,\"\",122.0,\"\"],[254.0,190.0,64.0,\"\",302.0,\"\"],[440.0,366.0,74.0,\"\",599.0,\"\"],[\"\",\"\",\"\",405.0,\"\",\"\"],[900.0,696.0,204.0,405.0,1100.0,0.524]]}}],\n",
       "  {\"height\":350},\n",
       "  {\"linkText\":\"Export to plot.ly\",\"showLink\":true}\n",
       ")\n",
       "\n",
       "window.addEventListener('resize', function() {\n",
       "  Plotly.Plots.resize(document.getElementById('ca599c2f-3651-4ffa-81c5-47869735f251'))\n",
       "})\n",
       " }) \n",
       "</script>"
      ],
      "text/plain": [
       "#<Plotly::Offline::HTML:0x00007f9f66aede10 @id=\"ca599c2f-3651-4ffa-81c5-47869735f251\", @data=[{:type=>:table, :header=>{:values=>[\"\", :moto, :soe, :naka, :tome, :alcohol, :total]}, :cells=>{:values=>[[:rice_total, :rice, :koji, :alcohol, :water, :lactic_acid], [63.0, 42.0, 21.0, \"\", 77.0, 0.524], [143.0, 98.0, 45.0, \"\", 122.0, \"\"], [254.0, 190.0, 64.0, \"\", 302.0, \"\"], [440.0, 366.0, 74.0, \"\", 599.0, \"\"], [\"\", \"\", \"\", 405.0, \"\", \"\"], [900.0, 696.0, 204.0, 405.0, 1100.0, 0.524]]}}], @layout={:height=>350}, @config={:linkText=>\"Export to plot.ly\", :showLink=>true}, @embedded=true>"
      ]
     },
     "metadata": {},
     "output_type": "display_data"
    },
    {
     "name": "stdout",
     "output_type": "stream",
     "text": [
      "仕6 酒造教本による標準型仕込配合\n"
     ]
    },
    {
     "data": {
      "text/html": [
       "\n",
       "  <script>\n",
       "  requirejs.config({paths: { 'plotly': ['https://cdn.plot.ly/plotly-latest.min'] }})\n",
       "  </script>\n",
       "\n",
       "\n",
       "<div id=\"8e361747-1c89-45d0-b67a-9e8b300479c8\" style=\"height: 100%; width: 100%;\"></div>\n",
       "\n",
       "<script>\n",
       " require(['plotly'], function(Plotly) { \n",
       "Plotly.newPlot(\n",
       "  '8e361747-1c89-45d0-b67a-9e8b300479c8',\n",
       "  [{\"type\":\"table\",\"header\":{\"values\":[\"\",\"moto\",\"soe\",\"naka\",\"tome\",\"yodan\",\"total\"]},\"cells\":{\"values\":[[\"rice_total\",\"rice\",\"koji\",\"alcohol\",\"water\",\"lactic_acid\"],[59.0,41.0,18.0,\"\",63.0,0.432],[126.0,90.0,36.0,\"\",117.0,\"\"],[248.0,194.0,54.0,\"\",297.0,\"\"],[396.0,324.0,72.0,\"\",567.0,\"\"],[72.0,72.0,\"\",\"\",108.0,\"\"],[901.0,721.0,180.0,\"\",1152.0,0.432]]}}],\n",
       "  {\"height\":350},\n",
       "  {\"linkText\":\"Export to plot.ly\",\"showLink\":true}\n",
       ")\n",
       "\n",
       "window.addEventListener('resize', function() {\n",
       "  Plotly.Plots.resize(document.getElementById('8e361747-1c89-45d0-b67a-9e8b300479c8'))\n",
       "})\n",
       " }) \n",
       "</script>"
      ],
      "text/plain": [
       "#<Plotly::Offline::HTML:0x00007f9f66b1d688 @id=\"8e361747-1c89-45d0-b67a-9e8b300479c8\", @data=[{:type=>:table, :header=>{:values=>[\"\", :moto, :soe, :naka, :tome, :yodan, :total]}, :cells=>{:values=>[[:rice_total, :rice, :koji, :alcohol, :water, :lactic_acid], [59.0, 41.0, 18.0, \"\", 63.0, 0.432], [126.0, 90.0, 36.0, \"\", 117.0, \"\"], [248.0, 194.0, 54.0, \"\", 297.0, \"\"], [396.0, 324.0, 72.0, \"\", 567.0, \"\"], [72.0, 72.0, \"\", \"\", 108.0, \"\"], [901.0, 721.0, 180.0, \"\", 1152.0, 0.432]]}}], @layout={:height=>350}, @config={:linkText=>\"Export to plot.ly\", :showLink=>true}, @embedded=true>"
      ]
     },
     "metadata": {},
     "output_type": "display_data"
    },
    {
     "data": {
      "text/html": [
       "\n",
       "  <script>\n",
       "  requirejs.config({paths: { 'plotly': ['https://cdn.plot.ly/plotly-latest.min'] }})\n",
       "  </script>\n",
       "\n",
       "\n",
       "<div id=\"49661286-297c-4903-b104-ec162ad2613a\" style=\"height: 100%; width: 100%;\"></div>\n",
       "\n",
       "<script>\n",
       " require(['plotly'], function(Plotly) { \n",
       "Plotly.newPlot(\n",
       "  '49661286-297c-4903-b104-ec162ad2613a',\n",
       "  [{\"type\":\"table\",\"header\":{\"values\":[\"date\",\"moto_koji\",\"moromi_koji\",\"moto\",\"soe\",\"naka\",\"tome\",\"yodan\"]},\"cells\":{\"values\":[[\"02/20\",\"02/21\",\"02/22\",\"02/23\",\"02/24\",\"02/25\",\"02/26\",\"02/27\",\"02/28\",\"02/29\",\"03/01\",\"03/02\",\"03/03\",\"03/04\",\"03/05\",\"03/06\",\"03/07\",\"03/08\",\"03/09\",\"03/10\",\"03/11\",\"03/12\",\"03/13\",\"03/14\",\"03/15\",\"03/16\",\"03/17\",\"03/18\",\"03/19\",\"03/20\",\"03/21\",\"03/22\"],[\"仕3: 21\\u003cbr\\u003e仕4: 18\",\"\",\"\",\"\",\"\",\"\",\"\",\"仕5: 21\\u003cbr\\u003e仕6: 18\",\"\",\"\",\"\",\"\",\"\",\"\",\"\",\"\",\"\",\"\",\"\",\"\",\"\",\"\",\"\",\"\",\"\",\"\",\"\",\"\",\"\",\"\",\"\",\"\"],[\"\",\"\",\"\",\"\",\"仕1: 140\",\"\",\"\",\"仕2: 128\",\"\",\"\",\"\",\"仕3: 183\",\"\",\"\",\"仕4: 162\",\"\",\"\",\"\",\"仕5: 183\",\"\",\"\",\"仕6: 162\",\"\",\"\",\"\",\"\",\"\",\"\",\"\",\"\",\"\",\"\"],[\"\",\"\",\"\",\"\",\"\",\"仕3: 42\\u003cbr\\u003e仕4: 41\",\"\",\"\",\"\",\"\",\"仕1: 0\",\"\",\"仕2: 0\\u003cbr\\u003e仕5: 42\\u003cbr\\u003e仕6: 41\",\"\",\"\",\"\",\"\",\"\",\"\",\"\",\"\",\"\",\"\",\"\",\"\",\"\",\"\",\"\",\"\",\"\",\"\",\"\"],[\"\",\"\",\"\",\"\",\"\",\"\",\"\",\"\",\"\",\"\",\"\",\"仕1: 65\",\"\",\"仕2: 60\",\"\",\"\",\"\",\"\",\"仕3: 98\",\"\",\"仕4: 90\",\"\",\"\",\"\",\"\",\"仕5: 98\",\"\",\"仕6: 90\",\"\",\"\",\"\",\"\"],[\"\",\"\",\"\",\"\",\"\",\"\",\"\",\"\",\"\",\"\",\"\",\"\",\"\",\"仕1: 150\",\"\",\"\",\"仕2: 138\",\"\",\"\",\"\",\"仕3: 190\",\"\",\"仕4: 194\",\"\",\"\",\"\",\"\",\"仕5: 190\",\"\",\"仕6: 194\",\"\",\"\"],[\"\",\"\",\"\",\"\",\"\",\"\",\"\",\"\",\"\",\"\",\"\",\"\",\"\",\"\",\"仕1: 245\",\"\",\"\",\"仕2: 225\",\"\",\"\",\"\",\"仕3: 366\",\"\",\"仕4: 324\",\"\",\"\",\"\",\"\",\"仕5: 366\",\"\",\"仕6: 324\",\"\"],[\"\",\"\",\"\",\"\",\"\",\"\",\"\",\"\",\"\",\"\",\"\",\"\",\"\",\"\",\"\",\"\",\"\",\"\",\"\",\"\",\"\",\"\",\"\",\"\",\"仕4: 72\",\"\",\"\",\"\",\"\",\"\",\"\",\"仕6: 72\"]]}}],\n",
       "  {\"height\":1000},\n",
       "  {\"linkText\":\"Export to plot.ly\",\"showLink\":true}\n",
       ")\n",
       "\n",
       "window.addEventListener('resize', function() {\n",
       "  Plotly.Plots.resize(document.getElementById('49661286-297c-4903-b104-ec162ad2613a'))\n",
       "})\n",
       " }) \n",
       "</script>"
      ],
      "text/plain": [
       "#<Plotly::Offline::HTML:0x00007f9f639ab050 @id=\"49661286-297c-4903-b104-ec162ad2613a\", @data=[{:type=>:table, :header=>{:values=>[:date, :moto_koji, :moromi_koji, :moto, :soe, :naka, :tome, :yodan]}, :cells=>{:values=>[[\"02/20\", \"02/21\", \"02/22\", \"02/23\", \"02/24\", \"02/25\", \"02/26\", \"02/27\", \"02/28\", \"02/29\", \"03/01\", \"03/02\", \"03/03\", \"03/04\", \"03/05\", \"03/06\", \"03/07\", \"03/08\", \"03/09\", \"03/10\", \"03/11\", \"03/12\", \"03/13\", \"03/14\", \"03/15\", \"03/16\", \"03/17\", \"03/18\", \"03/19\", \"03/20\", \"03/21\", \"03/22\"], [\"仕3: 21<br>仕4: 18\", \"\", \"\", \"\", \"\", \"\", \"\", \"仕5: 21<br>仕6: 18\", \"\", \"\", \"\", \"\", \"\", \"\", \"\", \"\", \"\", \"\", \"\", \"\", \"\", \"\", \"\", \"\", \"\", \"\", \"\", \"\", \"\", \"\", \"\", \"\"], [\"\", \"\", \"\", \"\", \"仕1: 140\", \"\", \"\", \"仕2: 128\", \"\", \"\", \"\", \"仕3: 183\", \"\", \"\", \"仕4: 162\", \"\", \"\", \"\", \"仕5: 183\", \"\", \"\", \"仕6: 162\", \"\", \"\", \"\", \"\", \"\", \"\", \"\", \"\", \"\", \"\"], [\"\", \"\", \"\", \"\", \"\", \"仕3: 42<br>仕4: 41\", \"\", \"\", \"\", \"\", \"仕1: 0\", \"\", \"仕2: 0<br>仕5: 42<br>仕6: 41\", \"\", \"\", \"\", \"\", \"\", \"\", \"\", \"\", \"\", \"\", \"\", \"\", \"\", \"\", \"\", \"\", \"\", \"\", \"\"], [\"\", \"\", \"\", \"\", \"\", \"\", \"\", \"\", \"\", \"\", \"\", \"仕1: 65\", \"\", \"仕2: 60\", \"\", \"\", \"\", \"\", \"仕3: 98\", \"\", \"仕4: 90\", \"\", \"\", \"\", \"\", \"仕5: 98\", \"\", \"仕6: 90\", \"\", \"\", \"\", \"\"], [\"\", \"\", \"\", \"\", \"\", \"\", \"\", \"\", \"\", \"\", \"\", \"\", \"\", \"仕1: 150\", \"\", \"\", \"仕2: 138\", \"\", \"\", \"\", \"仕3: 190\", \"\", \"仕4: 194\", \"\", \"\", \"\", \"\", \"仕5: 190\", \"\", \"仕6: 194\", \"\", \"\"], [\"\", \"\", \"\", \"\", \"\", \"\", \"\", \"\", \"\", \"\", \"\", \"\", \"\", \"\", \"仕1: 245\", \"\", \"\", \"仕2: 225\", \"\", \"\", \"\", \"仕3: 366\", \"\", \"仕4: 324\", \"\", \"\", \"\", \"\", \"仕5: 366\", \"\", \"仕6: 324\", \"\"], [\"\", \"\", \"\", \"\", \"\", \"\", \"\", \"\", \"\", \"\", \"\", \"\", \"\", \"\", \"\", \"\", \"\", \"\", \"\", \"\", \"\", \"\", \"\", \"\", \"仕4: 72\", \"\", \"\", \"\", \"\", \"\", \"\", \"仕6: 72\"]]}}], @layout={:height=>1000}, @config={:linkText=>\"Export to plot.ly\", :showLink=>true}, @embedded=true>"
      ]
     },
     "metadata": {},
     "output_type": "display_data"
    },
    {
     "data": {
      "text/plain": [
       "#<CZTop::Socket::PUB:0x7f9f6818f480 last_endpoint=\"tcp://127.0.0.1:49446\">"
      ]
     },
     "execution_count": 3,
     "metadata": {},
     "output_type": "execute_result"
    }
   ],
   "source": [
    "$LOAD_PATH << File.dirname(__FILE__) + \"/../lib\"\n",
    "require 'toji'\n",
    "require 'rbplotly'\n",
    "\n",
    "cal = Toji::Schedule::Calendar.load_yaml_file(\"schedule.yaml\")\n",
    "\n",
    "cal.products.each {|product|\n",
    "  puts \"%s %s\" % [product.name, product.description]\n",
    "  \n",
    "  product.recipe.table.tap {|t|\n",
    "    t.layout.height = 350\n",
    "  }.show\n",
    "}\n",
    "\n",
    "cal.table.tap {|t|\n",
    "  t.layout.height = 1000\n",
    "}.show"
   ]
  },
  {
   "cell_type": "code",
   "execution_count": null,
   "metadata": {},
   "outputs": [],
   "source": []
  }
 ],
 "metadata": {
  "kernelspec": {
   "display_name": "Ruby 2.7.0",
   "language": "ruby",
   "name": "ruby"
  },
  "language_info": {
   "file_extension": ".rb",
   "mimetype": "application/x-ruby",
   "name": "ruby",
   "version": "2.6.3"
  }
 },
 "nbformat": 4,
 "nbformat_minor": 2
}
