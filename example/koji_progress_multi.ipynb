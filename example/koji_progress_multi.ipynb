{
 "cells": [
  {
   "cell_type": "code",
   "execution_count": 1,
   "metadata": {
    "scrolled": false
   },
   "outputs": [
    {
     "data": {
      "text/html": [
       "\n",
       "  <script>\n",
       "  requirejs.config({paths: { 'plotly': ['https://cdn.plot.ly/plotly-latest.min'] }})\n",
       "  </script>\n",
       "\n",
       "\n",
       "<div id=\"6d0484f5-9ce3-4ec2-87e5-d2f4c3303ef3\" style=\"height: 100%; width: 100%;\"></div>\n",
       "\n",
       "<script>\n",
       " require(['plotly'], function(Plotly) { \n",
       "Plotly.newPlot(\n",
       "  '6d0484f5-9ce3-4ec2-87e5-d2f4c3303ef3',\n",
       "  [{\"x\":[0,55800.0,63000.0,88200.0,88201.0,120600.0,141300.0,141301.0,173700.0,173701.0,180000.0,212400.0,212401.0,225000.0,239400.0],\"y\":[null,27.3,27.2,31.2,30.1,30.7,32.7,31.2,35.6,33.5,34.8,36.2,34.7,38.9,41.6],\"text\":[null,\"03/28 15:30\",\"03/28 17:30\",\"03/29 00:30\",\"03/29 00:30\",\"03/29 09:30\",\"03/29 15:15\",\"03/29 15:15\",\"03/30 00:15\",\"03/30 00:15\",\"03/30 02:00\",\"03/30 11:00\",\"03/30 11:00\",\"03/30 14:30\",\"03/30 18:30\"],\"name\":\"actual temps\",\"line\":{\"dash\":\"solid\",\"shape\":\"linear\"},\"marker\":{\"color\":\"#1f77b4\"}},{\"x\":[0,55800.0,63000.0,88200.0,120600.0,141300.0,173700.0,180000.0,212400.0,225000.0,239400.0],\"y\":[null,30,33,33,35,35,37,40,45,50,50],\"text\":[null,\"03/28 15:30\",\"03/28 17:30\",\"03/29 00:30\",\"03/29 09:30\",\"03/29 15:15\",\"03/30 00:15\",\"03/30 02:00\",\"03/30 11:00\",\"03/30 14:30\",\"03/30 18:30\"],\"name\":\"actual preset_temp\",\"line\":{\"dash\":\"solid\",\"shape\":\"hv\"},\"marker\":{\"color\":\"#ff7f0e\"}},{\"x\":[0,55800.0,88200.0,120600.0,141300.0,173700.0,212400.0,225000.0,239400.0],\"y\":[null,29,28.5,27,28,28,30,31,36],\"text\":[null,\"03/28 15:30\",\"03/29 00:30\",\"03/29 09:30\",\"03/29 15:15\",\"03/30 00:15\",\"03/30 11:00\",\"03/30 14:30\",\"03/30 18:30\"],\"name\":\"actual room_temp\",\"line\":{\"dash\":\"solid\",\"shape\":\"linear\"},\"marker\":{\"color\":\"#2ca02c\"}},{\"x\":[0,32400.0,36000.0,68400.0,68401.0,111600.0,111601.0,140400.0,140401.0,162000.0,162001.0,176400.0,194400.0],\"y\":[null,35.0,32.0,32.0,31.0,35.0,33.0,37.0,35.0,38.0,37.0,40.0,40.0],\"text\":[null,\"01/01 09:00\",\"01/01 10:00\",\"01/01 19:00\",\"01/01 19:00\",\"01/02 07:00\",\"01/02 07:00\",\"01/02 15:00\",\"01/02 15:00\",\"01/02 21:00\",\"01/02 21:00\",\"01/03 01:00\",\"01/03 06:00\"],\"name\":\"expect temps\",\"line\":{\"dash\":\"dot\",\"shape\":\"linear\"},\"marker\":{\"color\":\"#1f77b4\"}},{\"x\":[0,32400.0,36000.0,68400.0,111600.0,140400.0,162000.0,176400.0,194400.0],\"y\":[null,28.0,28.0,28.0,28.0,28.0,28.0,28.0,28.0],\"text\":[null,\"01/01 09:00\",\"01/01 10:00\",\"01/01 19:00\",\"01/02 07:00\",\"01/02 15:00\",\"01/02 21:00\",\"01/03 01:00\",\"01/03 06:00\"],\"name\":\"expect room_temp\",\"line\":{\"dash\":\"dot\",\"shape\":\"linear\"},\"marker\":{\"color\":\"#2ca02c\"}},{\"x\":[0,111600.0,140400.0,162000.0,176400.0,194400.0],\"y\":[null,4,4,5,5,5],\"text\":[null,\"01/02 07:00\",\"01/02 15:00\",\"01/02 21:00\",\"01/03 01:00\",\"01/03 06:00\"],\"name\":\"expect room_psychrometry\",\"line\":{\"dash\":\"dot\",\"shape\":\"linear\"},\"marker\":{\"color\":\"#d62728\"}}],\n",
       "  {\"xaxis\":{\"dtick\":86400,\"tickvals\":[0,86400,172800],\"ticktext\":[\"1\",\"2\",\"3\"]},\"annotations\":[{\"x\":55800.0,\"y\":27.3,\"xref\":\"x\",\"yref\":\"y\",\"text\":\"引込み\",\"showarrow\":true,\"arrowhead\":1,\"ax\":0,\"ay\":-40},{\"x\":88200.0,\"y\":31.2,\"xref\":\"x\",\"yref\":\"y\",\"text\":\"切返し\",\"showarrow\":true,\"arrowhead\":1,\"ax\":0,\"ay\":-40},{\"x\":141300.0,\"y\":32.7,\"xref\":\"x\",\"yref\":\"y\",\"text\":\"盛り\",\"showarrow\":true,\"arrowhead\":1,\"ax\":0,\"ay\":-40},{\"x\":173700.0,\"y\":35.6,\"xref\":\"x\",\"yref\":\"y\",\"text\":\"仲仕事\",\"showarrow\":true,\"arrowhead\":1,\"ax\":0,\"ay\":-40},{\"x\":212400.0,\"y\":36.2,\"xref\":\"x\",\"yref\":\"y\",\"text\":\"仕舞仕事\",\"showarrow\":true,\"arrowhead\":1,\"ax\":0,\"ay\":-40},{\"x\":239400.0,\"y\":41.6,\"xref\":\"x\",\"yref\":\"y\",\"text\":\"出麹\",\"showarrow\":true,\"arrowhead\":1,\"ax\":0,\"ay\":-40}]},\n",
       "  {\"linkText\":\"Export to plot.ly\",\"showLink\":true}\n",
       ")\n",
       "\n",
       "window.addEventListener('resize', function() {\n",
       "  Plotly.Plots.resize(document.getElementById('6d0484f5-9ce3-4ec2-87e5-d2f4c3303ef3'))\n",
       "})\n",
       " }) \n",
       "</script>"
      ],
      "text/plain": [
       "#<Plotly::Offline::HTML:0x00007fd8b80cf3d0 @id=\"6d0484f5-9ce3-4ec2-87e5-d2f4c3303ef3\", @data=[{:x=>[0, 55800.0, 63000.0, 88200.0, 88201.0, 120600.0, 141300.0, 141301.0, 173700.0, 173701.0, 180000.0, 212400.0, 212401.0, 225000.0, 239400.0], :y=>[nil, 27.3, 27.2, 31.2, 30.1, 30.7, 32.7, 31.2, 35.6, 33.5, 34.8, 36.2, 34.7, 38.9, 41.6], :text=>[nil, \"03/28 15:30\", \"03/28 17:30\", \"03/29 00:30\", \"03/29 00:30\", \"03/29 09:30\", \"03/29 15:15\", \"03/29 15:15\", \"03/30 00:15\", \"03/30 00:15\", \"03/30 02:00\", \"03/30 11:00\", \"03/30 11:00\", \"03/30 14:30\", \"03/30 18:30\"], :name=>\"actual temps\", :line=>{:dash=>:solid, :shape=>:linear}, :marker=>{:color=>\"#1f77b4\"}}, {:x=>[0, 55800.0, 63000.0, 88200.0, 120600.0, 141300.0, 173700.0, 180000.0, 212400.0, 225000.0, 239400.0], :y=>[nil, 30, 33, 33, 35, 35, 37, 40, 45, 50, 50], :text=>[nil, \"03/28 15:30\", \"03/28 17:30\", \"03/29 00:30\", \"03/29 09:30\", \"03/29 15:15\", \"03/30 00:15\", \"03/30 02:00\", \"03/30 11:00\", \"03/30 14:30\", \"03/30 18:30\"], :name=>\"actual preset_temp\", :line=>{:dash=>:solid, :shape=>:hv}, :marker=>{:color=>\"#ff7f0e\"}}, {:x=>[0, 55800.0, 88200.0, 120600.0, 141300.0, 173700.0, 212400.0, 225000.0, 239400.0], :y=>[nil, 29, 28.5, 27, 28, 28, 30, 31, 36], :text=>[nil, \"03/28 15:30\", \"03/29 00:30\", \"03/29 09:30\", \"03/29 15:15\", \"03/30 00:15\", \"03/30 11:00\", \"03/30 14:30\", \"03/30 18:30\"], :name=>\"actual room_temp\", :line=>{:dash=>:solid, :shape=>:linear}, :marker=>{:color=>\"#2ca02c\"}}, {:x=>[0, 32400.0, 36000.0, 68400.0, 68401.0, 111600.0, 111601.0, 140400.0, 140401.0, 162000.0, 162001.0, 176400.0, 194400.0], :y=>[nil, 35.0, 32.0, 32.0, 31.0, 35.0, 33.0, 37.0, 35.0, 38.0, 37.0, 40.0, 40.0], :text=>[nil, \"01/01 09:00\", \"01/01 10:00\", \"01/01 19:00\", \"01/01 19:00\", \"01/02 07:00\", \"01/02 07:00\", \"01/02 15:00\", \"01/02 15:00\", \"01/02 21:00\", \"01/02 21:00\", \"01/03 01:00\", \"01/03 06:00\"], :name=>\"expect temps\", :line=>{:dash=>:dot, :shape=>:linear}, :marker=>{:color=>\"#1f77b4\"}}, {:x=>[0, 32400.0, 36000.0, 68400.0, 111600.0, 140400.0, 162000.0, 176400.0, 194400.0], :y=>[nil, 28.0, 28.0, 28.0, 28.0, 28.0, 28.0, 28.0, 28.0], :text=>[nil, \"01/01 09:00\", \"01/01 10:00\", \"01/01 19:00\", \"01/02 07:00\", \"01/02 15:00\", \"01/02 21:00\", \"01/03 01:00\", \"01/03 06:00\"], :name=>\"expect room_temp\", :line=>{:dash=>:dot, :shape=>:linear}, :marker=>{:color=>\"#2ca02c\"}}, {:x=>[0, 111600.0, 140400.0, 162000.0, 176400.0, 194400.0], :y=>[nil, 4, 4, 5, 5, 5], :text=>[nil, \"01/02 07:00\", \"01/02 15:00\", \"01/02 21:00\", \"01/03 01:00\", \"01/03 06:00\"], :name=>\"expect room_psychrometry\", :line=>{:dash=>:dot, :shape=>:linear}, :marker=>{:color=>\"#d62728\"}}], @layout={:xaxis=>{:dtick=>86400, :tickvals=>[0, 86400, 172800], :ticktext=>[\"1\", \"2\", \"3\"]}, :annotations=>[{:x=>55800.0, :y=>27.3, :xref=>\"x\", :yref=>\"y\", :text=>\"引込み\", :showarrow=>true, :arrowhead=>1, :ax=>0, :ay=>-40}, {:x=>88200.0, :y=>31.2, :xref=>\"x\", :yref=>\"y\", :text=>\"切返し\", :showarrow=>true, :arrowhead=>1, :ax=>0, :ay=>-40}, {:x=>141300.0, :y=>32.7, :xref=>\"x\", :yref=>\"y\", :text=>\"盛り\", :showarrow=>true, :arrowhead=>1, :ax=>0, :ay=>-40}, {:x=>173700.0, :y=>35.6, :xref=>\"x\", :yref=>\"y\", :text=>\"仲仕事\", :showarrow=>true, :arrowhead=>1, :ax=>0, :ay=>-40}, {:x=>212400.0, :y=>36.2, :xref=>\"x\", :yref=>\"y\", :text=>\"仕舞仕事\", :showarrow=>true, :arrowhead=>1, :ax=>0, :ay=>-40}, {:x=>239400.0, :y=>41.6, :xref=>\"x\", :yref=>\"y\", :text=>\"出麹\", :showarrow=>true, :arrowhead=>1, :ax=>0, :ay=>-40}]}, @config={:linkText=>\"Export to plot.ly\", :showLink=>true}, @embedded=true>"
      ]
     },
     "metadata": {},
     "output_type": "display_data"
    },
    {
     "data": {
      "text/plain": [
       "#<CZTop::Socket::PUB:0x7fd8b88e8f90 last_endpoint=\"tcp://127.0.0.1:49352\">"
      ]
     },
     "execution_count": 1,
     "metadata": {},
     "output_type": "execute_result"
    }
   ],
   "source": [
    "$LOAD_PATH << File.dirname(__FILE__) + \"/../lib\"\n",
    "require 'toji'\n",
    "require './example_core'\n",
    "require 'rbplotly'\n",
    "\n",
    "expect_koji = Example::Brew::KojiProgress.load_yaml_file(\"koji_progress.yaml\")\n",
    "\n",
    "actual_koji = Example::Brew::KojiProgress.builder\n",
    " .date_line(6.5)\n",
    " .add({time: Time.mktime(2020, 3, 28, 15, 30), mark: \"引込み\", temps: 27.3, preset_temp: 30, room_temp: 29})\n",
    " .add({time: Time.mktime(2020, 3, 28, 17, 30), temps: 27.2, preset_temp: 33})\n",
    " .add({time: Time.mktime(2020, 3, 29, 0, 30), mark: \"切返し\", temps: [31.2, 30.1], preset_temp: 33, room_temp: 28.5})\n",
    " .add({time: Time.mktime(2020, 3, 29, 9, 30), temps: 30.7, preset_temp: 35, room_temp: 27})\n",
    " .add({time: Time.mktime(2020, 3, 29, 15, 15), mark: \"盛り\", temps: [32.7, 31.2], preset_temp: 35, room_temp: 28})\n",
    " .add({time: Time.mktime(2020, 3, 30, 0, 15), mark: \"仲仕事\", temps: [35.6, 33.5], preset_temp: 37, room_temp: 28})\n",
    " .add({time: Time.mktime(2020, 3, 30, 2, 0), temps: 34.8, preset_temp: 40})\n",
    " .add({time: Time.mktime(2020, 3, 30, 11, 0), mark: \"仕舞仕事\", temps: [36.2, 34.7], preset_temp: 45, room_temp: 30})\n",
    " .add({time: Time.mktime(2020, 3, 30, 14, 30), temps: 38.9, preset_temp: 50, room_temp: 31})\n",
    " .add({time: Time.mktime(2020, 3, 30, 18, 30), mark: \"出麹\", temps: 41.6, preset_temp: 50, room_temp: 36})\n",
    " .build\n",
    "\n",
    "progress = Toji::Brew::Graph::MultiProgressNote.new\n",
    " .add(actual_koji, :actual, enable_annotations: true)\n",
    " .add(expect_koji, :expect, enable_annotations: false)\n",
    "\n",
    "progress.plot.show"
   ]
  },
  {
   "cell_type": "code",
   "execution_count": null,
   "metadata": {},
   "outputs": [],
   "source": []
  }
 ],
 "metadata": {
  "kernelspec": {
   "display_name": "Ruby 2.7.1",
   "language": "ruby",
   "name": "ruby"
  },
  "language_info": {
   "file_extension": ".rb",
   "mimetype": "application/x-ruby",
   "name": "ruby",
   "version": "2.6.3"
  }
 },
 "nbformat": 4,
 "nbformat_minor": 2
}
