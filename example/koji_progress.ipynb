{
 "cells": [
  {
   "cell_type": "code",
   "execution_count": 1,
   "metadata": {},
   "outputs": [
    {
     "data": {
      "text/html": [
       "\n",
       "  <script>\n",
       "  requirejs.config({paths: { 'plotly': ['https://cdn.plot.ly/plotly-latest.min'] }})\n",
       "  </script>\n",
       "\n",
       "\n",
       "<div id=\"f82ea026-314c-4881-9000-5474bf1c7f69\" style=\"height: 100%; width: 100%;\"></div>\n",
       "\n",
       "<script>\n",
       " require(['plotly'], function(Plotly) { \n",
       "Plotly.newPlot(\n",
       "  'f82ea026-314c-4881-9000-5474bf1c7f69',\n",
       "  [{\"x\":[0,32400.0,36000.0,68400.0,68401.0,111600.0,111601.0,140400.0,140401.0,162000.0,162001.0,176400.0,194400.0],\"y\":[null,35.0,32.0,32.0,31.0,35.0,33.0,37.0,35.0,38.0,37.0,40.0,40.0],\"text\":[null,\"01/01 09:00\",\"01/01 10:00\",\"01/01 19:00\",\"01/01 19:00\",\"01/02 07:00\",\"01/02 07:00\",\"01/02 15:00\",\"01/02 15:00\",\"01/02 21:00\",\"01/02 21:00\",\"01/03 01:00\",\"01/03 06:00\"],\"name\":\"temps\",\"line\":{\"dash\":\"solid\",\"shape\":\"linear\"},\"marker\":{\"color\":\"#1f77b4\"}},{\"x\":[0,32400.0,36000.0,68400.0,111600.0,140400.0,162000.0,176400.0,194400.0],\"y\":[null,28.0,28.0,28.0,28.0,28.0,28.0,28.0,28.0],\"text\":[null,\"01/01 09:00\",\"01/01 10:00\",\"01/01 19:00\",\"01/02 07:00\",\"01/02 15:00\",\"01/02 21:00\",\"01/03 01:00\",\"01/03 06:00\"],\"name\":\"room_temp\",\"line\":{\"dash\":\"solid\",\"shape\":\"linear\"},\"marker\":{\"color\":\"#2ca02c\"}},{\"x\":[0,111600.0,140400.0,162000.0,176400.0,194400.0],\"y\":[null,4,4,5,5,5],\"text\":[null,\"01/02 07:00\",\"01/02 15:00\",\"01/02 21:00\",\"01/03 01:00\",\"01/03 06:00\"],\"name\":\"room_psychrometry\",\"line\":{\"dash\":\"solid\",\"shape\":\"linear\"},\"marker\":{\"color\":\"#d62728\"}}],\n",
       "  {\"xaxis\":{\"dtick\":86400,\"tickvals\":[0,86400,172800],\"ticktext\":[\"1\",\"2\",\"3\"]},\"annotations\":[]},\n",
       "  {\"linkText\":\"Export to plot.ly\",\"showLink\":true}\n",
       ")\n",
       "\n",
       "window.addEventListener('resize', function() {\n",
       "  Plotly.Plots.resize(document.getElementById('f82ea026-314c-4881-9000-5474bf1c7f69'))\n",
       "})\n",
       " }) \n",
       "</script>"
      ],
      "text/plain": [
       "#<Plotly::Offline::HTML:0x00007f802d945db8 @id=\"f82ea026-314c-4881-9000-5474bf1c7f69\", @data=[{:x=>[0, 32400.0, 36000.0, 68400.0, 68401.0, 111600.0, 111601.0, 140400.0, 140401.0, 162000.0, 162001.0, 176400.0, 194400.0], :y=>[nil, 35.0, 32.0, 32.0, 31.0, 35.0, 33.0, 37.0, 35.0, 38.0, 37.0, 40.0, 40.0], :text=>[nil, \"01/01 09:00\", \"01/01 10:00\", \"01/01 19:00\", \"01/01 19:00\", \"01/02 07:00\", \"01/02 07:00\", \"01/02 15:00\", \"01/02 15:00\", \"01/02 21:00\", \"01/02 21:00\", \"01/03 01:00\", \"01/03 06:00\"], :name=>\"temps\", :line=>{:dash=>:solid, :shape=>:linear}, :marker=>{:color=>\"#1f77b4\"}}, {:x=>[0, 32400.0, 36000.0, 68400.0, 111600.0, 140400.0, 162000.0, 176400.0, 194400.0], :y=>[nil, 28.0, 28.0, 28.0, 28.0, 28.0, 28.0, 28.0, 28.0], :text=>[nil, \"01/01 09:00\", \"01/01 10:00\", \"01/01 19:00\", \"01/02 07:00\", \"01/02 15:00\", \"01/02 21:00\", \"01/03 01:00\", \"01/03 06:00\"], :name=>\"room_temp\", :line=>{:dash=>:solid, :shape=>:linear}, :marker=>{:color=>\"#2ca02c\"}}, {:x=>[0, 111600.0, 140400.0, 162000.0, 176400.0, 194400.0], :y=>[nil, 4, 4, 5, 5, 5], :text=>[nil, \"01/02 07:00\", \"01/02 15:00\", \"01/02 21:00\", \"01/03 01:00\", \"01/03 06:00\"], :name=>\"room_psychrometry\", :line=>{:dash=>:solid, :shape=>:linear}, :marker=>{:color=>\"#d62728\"}}], @layout={:xaxis=>{:dtick=>86400, :tickvals=>[0, 86400, 172800], :ticktext=>[\"1\", \"2\", \"3\"]}, :annotations=>[]}, @config={:linkText=>\"Export to plot.ly\", :showLink=>true}, @embedded=true>"
      ]
     },
     "metadata": {},
     "output_type": "display_data"
    },
    {
     "data": {
      "text/html": [
       "\n",
       "  <script>\n",
       "  requirejs.config({paths: { 'plotly': ['https://cdn.plot.ly/plotly-latest.min'] }})\n",
       "  </script>\n",
       "\n",
       "\n",
       "<div id=\"cd67f8ad-d90f-4dbe-ae08-d5db73d61827\" style=\"height: 100%; width: 100%;\"></div>\n",
       "\n",
       "<script>\n",
       " require(['plotly'], function(Plotly) { \n",
       "Plotly.newPlot(\n",
       "  'cd67f8ad-d90f-4dbe-ae08-d5db73d61827',\n",
       "  [{\"type\":\"table\",\"header\":{\"values\":[\"day_label\",\"display_time\",\"mark\",\"temps\",\"room_temp\",\"room_psychrometry\"]},\"cells\":{\"values\":[[\"1\",\"1\",\"1\",\"2\",\"2\",\"2\",\"3\",\"3\"],[\"01/01 09:00\",\"01/01 10:00\",\"01/01 19:00\",\"01/02 07:00\",\"01/02 15:00\",\"01/02 21:00\",\"01/03 01:00\",\"01/03 06:00\"],[\"引込み\",\"床揉み\",\"切返し\",\"盛り\",\"仲仕事\",\"仕舞仕事\",\"最高積替\",\"出麹\"],[\"35.0\",\"32.0\",\"32.0, 31.0\",\"35.0, 33.0\",\"37.0, 35.0\",\"38.0, 37.0\",\"40.0\",\"40.0\"],[\"28.0\",\"28.0\",\"28.0\",\"28.0\",\"28.0\",\"28.0\",\"28.0\",\"28.0\"],[\"\",\"\",\"\",\"4\",\"4\",\"5\",\"5\",\"5\"]]}}],\n",
       "  {},\n",
       "  {\"linkText\":\"Export to plot.ly\",\"showLink\":true}\n",
       ")\n",
       "\n",
       "window.addEventListener('resize', function() {\n",
       "  Plotly.Plots.resize(document.getElementById('cd67f8ad-d90f-4dbe-ae08-d5db73d61827'))\n",
       "})\n",
       " }) \n",
       "</script>"
      ],
      "text/plain": [
       "#<Plotly::Offline::HTML:0x00007f802d99e120 @id=\"cd67f8ad-d90f-4dbe-ae08-d5db73d61827\", @data=[{:type=>:table, :header=>{:values=>[:day_label, :display_time, :mark, :temps, :room_temp, :room_psychrometry]}, :cells=>{:values=>[[\"1\", \"1\", \"1\", \"2\", \"2\", \"2\", \"3\", \"3\"], [\"01/01 09:00\", \"01/01 10:00\", \"01/01 19:00\", \"01/02 07:00\", \"01/02 15:00\", \"01/02 21:00\", \"01/03 01:00\", \"01/03 06:00\"], [\"引込み\", \"床揉み\", \"切返し\", \"盛り\", \"仲仕事\", \"仕舞仕事\", \"最高積替\", \"出麹\"], [\"35.0\", \"32.0\", \"32.0, 31.0\", \"35.0, 33.0\", \"37.0, 35.0\", \"38.0, 37.0\", \"40.0\", \"40.0\"], [\"28.0\", \"28.0\", \"28.0\", \"28.0\", \"28.0\", \"28.0\", \"28.0\", \"28.0\"], [\"\", \"\", \"\", \"4\", \"4\", \"5\", \"5\", \"5\"]]}}], @layout={}, @config={:linkText=>\"Export to plot.ly\", :showLink=>true}, @embedded=true>"
      ]
     },
     "metadata": {},
     "output_type": "display_data"
    },
    {
     "data": {
      "text/plain": [
       "#<CZTop::Socket::PUB:0x7f802f17f0a0 last_endpoint=\"tcp://127.0.0.1:60433\">"
      ]
     },
     "execution_count": 1,
     "metadata": {},
     "output_type": "execute_result"
    }
   ],
   "source": [
    "$LOAD_PATH << File.dirname(__FILE__) + \"/../lib\"\n",
    "require 'toji'\n",
    "require './example_core'\n",
    "require 'rbplotly'\n",
    "\n",
    "koji = Example::Progress::KojiProgress.load_yaml_file(\"koji_progress.yaml\")\n",
    "koji.progress_note(enable_annotations: false).plot.show\n",
    "koji.progress_note.table.show"
   ]
  },
  {
   "cell_type": "code",
   "execution_count": null,
   "metadata": {},
   "outputs": [],
   "source": []
  }
 ],
 "metadata": {
  "kernelspec": {
   "display_name": "Ruby 2.7.1",
   "language": "ruby",
   "name": "ruby"
  },
  "language_info": {
   "file_extension": ".rb",
   "mimetype": "application/x-ruby",
   "name": "ruby",
   "version": "2.6.3"
  }
 },
 "nbformat": 4,
 "nbformat_minor": 2
}
