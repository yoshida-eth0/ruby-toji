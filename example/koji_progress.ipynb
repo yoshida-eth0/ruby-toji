{
 "cells": [
  {
   "cell_type": "code",
   "execution_count": 2,
   "metadata": {},
   "outputs": [
    {
     "data": {
      "text/html": [
       "\n",
       "  <script>\n",
       "  requirejs.config({paths: { 'plotly': ['https://cdn.plot.ly/plotly-latest.min'] }})\n",
       "  </script>\n",
       "\n",
       "\n",
       "<div id=\"69ef8741-fb63-45ca-bf1d-21919a9a0ce4\" style=\"height: 100%; width: 100%;\"></div>\n",
       "\n",
       "<script>\n",
       " require(['plotly'], function(Plotly) { \n",
       "Plotly.newPlot(\n",
       "  '69ef8741-fb63-45ca-bf1d-21919a9a0ce4',\n",
       "  [{\"x\":[0,32400.0,36000.0,68400.0,68401.0,111600.0,111601.0,140400.0,140401.0,162000.0,162001.0,176400.0,194400.0],\"y\":[null,35.0,32.0,32.0,31.0,35.0,33.0,37.0,35.0,38.0,37.0,40.0,40.0],\"text\":[null,\"01/01 09:00\",\"01/01 10:00\",\"01/01 19:00\",\"01/01 19:00\",\"01/02 07:00\",\"01/02 07:00\",\"01/02 15:00\",\"01/02 15:00\",\"01/02 21:00\",\"01/02 21:00\",\"01/03 01:00\",\"01/03 06:00\"],\"name\":\"temps\",\"line\":{\"dash\":\"solid\",\"shape\":\"linear\"},\"marker\":{\"color\":\"#1f77b4\"}},{\"x\":[0,32400.0,36000.0,68400.0,111600.0,140400.0,162000.0,176400.0,194400.0],\"y\":[null,28.0,28.0,28.0,28.0,28.0,28.0,28.0,28.0],\"text\":[null,\"01/01 09:00\",\"01/01 10:00\",\"01/01 19:00\",\"01/02 07:00\",\"01/02 15:00\",\"01/02 21:00\",\"01/03 01:00\",\"01/03 06:00\"],\"name\":\"room_dry_temp\",\"line\":{\"dash\":\"solid\",\"shape\":\"linear\"},\"marker\":{\"color\":\"#2ca02c\"}},{\"x\":[0,111600.0,140400.0,162000.0,176400.0,194400.0],\"y\":[null,24.0,24.0,23.0,23.0,23.0],\"text\":[null,\"01/02 07:00\",\"01/02 15:00\",\"01/02 21:00\",\"01/03 01:00\",\"01/03 06:00\"],\"name\":\"room_wet_temp\",\"line\":{\"dash\":\"solid\",\"shape\":\"linear\"},\"marker\":{\"color\":\"#d62728\"}},{\"x\":[0,111600.0,140400.0,162000.0,176400.0,194400.0],\"y\":[null,0.7184590765435428,0.7184590765435428,0.654566720135759,0.654566720135759,0.654566720135759],\"text\":[null,\"01/02 07:00\",\"01/02 15:00\",\"01/02 21:00\",\"01/03 01:00\",\"01/03 06:00\"],\"name\":\"room_relative_humidity_from_dry_and_wet\",\"line\":{\"dash\":\"solid\",\"shape\":\"linear\"},\"marker\":{\"color\":\"#9467bd\"}}],\n",
       "  {\"xaxis\":{\"dtick\":86400,\"tickvals\":[0,86400,172800],\"ticktext\":[\"1\",\"2\",\"3\"]},\"annotations\":[]},\n",
       "  {\"linkText\":\"Export to plot.ly\",\"showLink\":true}\n",
       ")\n",
       "\n",
       "window.addEventListener('resize', function() {\n",
       "  Plotly.Plots.resize(document.getElementById('69ef8741-fb63-45ca-bf1d-21919a9a0ce4'))\n",
       "})\n",
       " }) \n",
       "</script>"
      ],
      "text/plain": [
       "#<Plotly::Offline::HTML:0x00007fa48a41b9b0 @id=\"69ef8741-fb63-45ca-bf1d-21919a9a0ce4\", @data=[{:x=>[0, 32400.0, 36000.0, 68400.0, 68401.0, 111600.0, 111601.0, 140400.0, 140401.0, 162000.0, 162001.0, 176400.0, 194400.0], :y=>[nil, 35.0, 32.0, 32.0, 31.0, 35.0, 33.0, 37.0, 35.0, 38.0, 37.0, 40.0, 40.0], :text=>[nil, \"01/01 09:00\", \"01/01 10:00\", \"01/01 19:00\", \"01/01 19:00\", \"01/02 07:00\", \"01/02 07:00\", \"01/02 15:00\", \"01/02 15:00\", \"01/02 21:00\", \"01/02 21:00\", \"01/03 01:00\", \"01/03 06:00\"], :name=>\"temps\", :line=>{:dash=>:solid, :shape=>:linear}, :marker=>{:color=>\"#1f77b4\"}}, {:x=>[0, 32400.0, 36000.0, 68400.0, 111600.0, 140400.0, 162000.0, 176400.0, 194400.0], :y=>[nil, 28.0, 28.0, 28.0, 28.0, 28.0, 28.0, 28.0, 28.0], :text=>[nil, \"01/01 09:00\", \"01/01 10:00\", \"01/01 19:00\", \"01/02 07:00\", \"01/02 15:00\", \"01/02 21:00\", \"01/03 01:00\", \"01/03 06:00\"], :name=>\"room_dry_temp\", :line=>{:dash=>:solid, :shape=>:linear}, :marker=>{:color=>\"#2ca02c\"}}, {:x=>[0, 111600.0, 140400.0, 162000.0, 176400.0, 194400.0], :y=>[nil, 24.0, 24.0, 23.0, 23.0, 23.0], :text=>[nil, \"01/02 07:00\", \"01/02 15:00\", \"01/02 21:00\", \"01/03 01:00\", \"01/03 06:00\"], :name=>\"room_wet_temp\", :line=>{:dash=>:solid, :shape=>:linear}, :marker=>{:color=>\"#d62728\"}}, {:x=>[0, 111600.0, 140400.0, 162000.0, 176400.0, 194400.0], :y=>[nil, 0.7184590765435428, 0.7184590765435428, 0.654566720135759, 0.654566720135759, 0.654566720135759], :text=>[nil, \"01/02 07:00\", \"01/02 15:00\", \"01/02 21:00\", \"01/03 01:00\", \"01/03 06:00\"], :name=>\"room_relative_humidity_from_dry_and_wet\", :line=>{:dash=>:solid, :shape=>:linear}, :marker=>{:color=>\"#9467bd\"}}], @layout={:xaxis=>{:dtick=>86400, :tickvals=>[0, 86400, 172800], :ticktext=>[\"1\", \"2\", \"3\"]}, :annotations=>[]}, @config={:linkText=>\"Export to plot.ly\", :showLink=>true}, @embedded=true>"
      ]
     },
     "metadata": {},
     "output_type": "display_data"
    },
    {
     "data": {
      "text/html": [
       "\n",
       "  <script>\n",
       "  requirejs.config({paths: { 'plotly': ['https://cdn.plot.ly/plotly-latest.min'] }})\n",
       "  </script>\n",
       "\n",
       "\n",
       "<div id=\"85f87905-7689-4c28-9eaa-8d1128d24911\" style=\"height: 100%; width: 100%;\"></div>\n",
       "\n",
       "<script>\n",
       " require(['plotly'], function(Plotly) { \n",
       "Plotly.newPlot(\n",
       "  '85f87905-7689-4c28-9eaa-8d1128d24911',\n",
       "  [{\"type\":\"table\",\"header\":{\"values\":[\"day_label\",\"display_time\",\"mark\",\"temps\",\"room_dry_temp\",\"room_wet_temp\",\"room_psychrometry\",\"room_relative_humidity_from_dry_and_wet\"]},\"cells\":{\"values\":[[\"1\",\"1\",\"1\",\"2\",\"2\",\"2\",\"3\",\"3\"],[\"01/01 09:00\",\"01/01 10:00\",\"01/01 19:00\",\"01/02 07:00\",\"01/02 15:00\",\"01/02 21:00\",\"01/03 01:00\",\"01/03 06:00\"],[\"引込み\",\"床揉み\",\"切返し\",\"盛り\",\"仲仕事\",\"仕舞仕事\",\"最高積替\",\"出麹\"],[\"35.0\",\"32.0\",\"32.0, 31.0\",\"35.0, 33.0\",\"37.0, 35.0\",\"38.0, 37.0\",\"40.0\",\"40.0\"],[\"28.0\",\"28.0\",\"28.0\",\"28.0\",\"28.0\",\"28.0\",\"28.0\",\"28.0\"],[\"\",\"\",\"\",\"24.0\",\"24.0\",\"23.0\",\"23.0\",\"23.0\"],[\"\",\"\",\"\",\"4.0\",\"4.0\",\"5.0\",\"5.0\",\"5.0\"],[\"\",\"\",\"\",\"0.718\",\"0.718\",\"0.655\",\"0.655\",\"0.655\"]]}}],\n",
       "  {},\n",
       "  {\"linkText\":\"Export to plot.ly\",\"showLink\":true}\n",
       ")\n",
       "\n",
       "window.addEventListener('resize', function() {\n",
       "  Plotly.Plots.resize(document.getElementById('85f87905-7689-4c28-9eaa-8d1128d24911'))\n",
       "})\n",
       " }) \n",
       "</script>"
      ],
      "text/plain": [
       "#<Plotly::Offline::HTML:0x00007fa489ca69a0 @id=\"85f87905-7689-4c28-9eaa-8d1128d24911\", @data=[{:type=>:table, :header=>{:values=>[:day_label, :display_time, :mark, :temps, :room_dry_temp, :room_wet_temp, :room_psychrometry, :room_relative_humidity_from_dry_and_wet]}, :cells=>{:values=>[[\"1\", \"1\", \"1\", \"2\", \"2\", \"2\", \"3\", \"3\"], [\"01/01 09:00\", \"01/01 10:00\", \"01/01 19:00\", \"01/02 07:00\", \"01/02 15:00\", \"01/02 21:00\", \"01/03 01:00\", \"01/03 06:00\"], [\"引込み\", \"床揉み\", \"切返し\", \"盛り\", \"仲仕事\", \"仕舞仕事\", \"最高積替\", \"出麹\"], [\"35.0\", \"32.0\", \"32.0, 31.0\", \"35.0, 33.0\", \"37.0, 35.0\", \"38.0, 37.0\", \"40.0\", \"40.0\"], [\"28.0\", \"28.0\", \"28.0\", \"28.0\", \"28.0\", \"28.0\", \"28.0\", \"28.0\"], [\"\", \"\", \"\", \"24.0\", \"24.0\", \"23.0\", \"23.0\", \"23.0\"], [\"\", \"\", \"\", \"4.0\", \"4.0\", \"5.0\", \"5.0\", \"5.0\"], [\"\", \"\", \"\", \"0.718\", \"0.718\", \"0.655\", \"0.655\", \"0.655\"]]}}], @layout={}, @config={:linkText=>\"Export to plot.ly\", :showLink=>true}, @embedded=true>"
      ]
     },
     "metadata": {},
     "output_type": "display_data"
    }
   ],
   "source": [
    "$LOAD_PATH << File.dirname(__FILE__) + \"/../lib\"\n",
    "require 'toji'\n",
    "require './example_core'\n",
    "require 'rbplotly'\n",
    "\n",
    "koji = Example::Progress::KojiProgress.load_yaml_file(\"koji_progress.yaml\")\n",
    "koji.progress_note(enable_annotations: false).plot.show\n",
    "koji.progress_note.table.show\n",
    "nil"
   ]
  },
  {
   "cell_type": "code",
   "execution_count": null,
   "metadata": {},
   "outputs": [],
   "source": []
  }
 ],
 "metadata": {
  "kernelspec": {
   "display_name": "Ruby 2.7.1",
   "language": "ruby",
   "name": "ruby"
  },
  "language_info": {
   "file_extension": ".rb",
   "mimetype": "application/x-ruby",
   "name": "ruby",
   "version": "2.7.2"
  }
 },
 "nbformat": 4,
 "nbformat_minor": 2
}
