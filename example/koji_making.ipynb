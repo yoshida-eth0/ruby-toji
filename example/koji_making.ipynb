{
 "cells": [
  {
   "cell_type": "code",
   "execution_count": 1,
   "metadata": {},
   "outputs": [
    {
     "data": {
      "text/html": [
       "\n",
       "  <script>\n",
       "  requirejs.config({paths: { 'plotly': ['https://cdn.plot.ly/plotly-latest.min'] }})\n",
       "  </script>\n",
       "\n",
       "\n",
       "<div id=\"2f06152a-4f73-4e87-a2ff-960a5a933fad\" style=\"height: 100%; width: 100%;\"></div>\n",
       "\n",
       "<script>\n",
       " require(['plotly'], function(Plotly) { \n",
       "Plotly.newPlot(\n",
       "  '2f06152a-4f73-4e87-a2ff-960a5a933fad',\n",
       "  [{\"x\":[0,32400.0,36000.0,64800.0,64801.0,108000.0,108001.0,136800.0,136801.0,158400.0,158401.0,172800.0,190800.0],\"y\":[null,35.0,32.0,32.0,31.0,35.0,33.0,37.0,35.0,38.0,37.0,40.0,40.0],\"text\":[null,\"01/01 09:00\",\"01/01 10:00\",\"01/01 18:00\",\"01/01 18:00\",\"01/02 06:00\",\"01/02 06:00\",\"01/02 14:00\",\"01/02 14:00\",\"01/02 20:00\",\"01/02 20:00\",\"01/03 00:00\",\"01/03 05:00\"],\"name\":\"temps\",\"line\":{\"shape\":\"linear\"}},{\"x\":[0,32400.0,36000.0,64800.0,108000.0,136800.0,158400.0,172800.0,190800.0],\"y\":[null,28.0,28.0,28.0,28.0,28.0,28.0,28.0,28.0],\"text\":[null,\"01/01 09:00\",\"01/01 10:00\",\"01/01 18:00\",\"01/02 06:00\",\"01/02 14:00\",\"01/02 20:00\",\"01/03 00:00\",\"01/03 05:00\"],\"name\":\"room_temp\",\"line\":{\"shape\":\"linear\"}},{\"x\":[0,108000.0,136800.0,158400.0,172800.0,190800.0],\"y\":[null,4,4,5,5,5],\"text\":[null,\"01/02 06:00\",\"01/02 14:00\",\"01/02 20:00\",\"01/03 00:00\",\"01/03 05:00\"],\"name\":\"room_psychrometry\",\"line\":{\"shape\":\"linear\"}}],\n",
       "  {\"xaxis\":{\"dtick\":86400,\"tickvals\":[0,86400,172800],\"ticktext\":[1,2,3]},\"annotations\":[]},\n",
       "  {\"linkText\":\"Export to plot.ly\",\"showLink\":true}\n",
       ")\n",
       "\n",
       "window.addEventListener('resize', function() {\n",
       "  Plotly.Plots.resize(document.getElementById('2f06152a-4f73-4e87-a2ff-960a5a933fad'))\n",
       "})\n",
       " }) \n",
       "</script>"
      ],
      "text/plain": [
       "#<Plotly::Offline::HTML:0x00007fa730cb40b0 @id=\"2f06152a-4f73-4e87-a2ff-960a5a933fad\", @data=[{:x=>[0, 32400.0, 36000.0, 64800.0, 64801.0, 108000.0, 108001.0, 136800.0, 136801.0, 158400.0, 158401.0, 172800.0, 190800.0], :y=>[nil, 35.0, 32.0, 32.0, 31.0, 35.0, 33.0, 37.0, 35.0, 38.0, 37.0, 40.0, 40.0], :text=>[nil, \"01/01 09:00\", \"01/01 10:00\", \"01/01 18:00\", \"01/01 18:00\", \"01/02 06:00\", \"01/02 06:00\", \"01/02 14:00\", \"01/02 14:00\", \"01/02 20:00\", \"01/02 20:00\", \"01/03 00:00\", \"01/03 05:00\"], :name=>\"temps\", :line=>{:shape=>:linear}}, {:x=>[0, 32400.0, 36000.0, 64800.0, 108000.0, 136800.0, 158400.0, 172800.0, 190800.0], :y=>[nil, 28.0, 28.0, 28.0, 28.0, 28.0, 28.0, 28.0, 28.0], :text=>[nil, \"01/01 09:00\", \"01/01 10:00\", \"01/01 18:00\", \"01/02 06:00\", \"01/02 14:00\", \"01/02 20:00\", \"01/03 00:00\", \"01/03 05:00\"], :name=>\"room_temp\", :line=>{:shape=>:linear}}, {:x=>[0, 108000.0, 136800.0, 158400.0, 172800.0, 190800.0], :y=>[nil, 4, 4, 5, 5, 5], :text=>[nil, \"01/02 06:00\", \"01/02 14:00\", \"01/02 20:00\", \"01/03 00:00\", \"01/03 05:00\"], :name=>\"room_psychrometry\", :line=>{:shape=>:linear}}], @layout={:xaxis=>{:dtick=>86400, :tickvals=>[0, 86400, 172800], :ticktext=>[1, 2, 3]}, :annotations=>[]}, @config={:linkText=>\"Export to plot.ly\", :showLink=>true}, @embedded=true>"
      ]
     },
     "metadata": {},
     "output_type": "display_data"
    },
    {
     "data": {
      "text/html": [
       "\n",
       "  <script>\n",
       "  requirejs.config({paths: { 'plotly': ['https://cdn.plot.ly/plotly-latest.min'] }})\n",
       "  </script>\n",
       "\n",
       "\n",
       "<div id=\"629ced80-ae63-4e09-9114-2d887d9b9101\" style=\"height: 100%; width: 100%;\"></div>\n",
       "\n",
       "<script>\n",
       " require(['plotly'], function(Plotly) { \n",
       "Plotly.newPlot(\n",
       "  '629ced80-ae63-4e09-9114-2d887d9b9101',\n",
       "  [{\"type\":\"table\",\"header\":{\"values\":[\"day_label\",\"display_time\",\"mark\",\"temps\",\"room_temp\",\"room_psychrometry\"]},\"cells\":{\"values\":[[1,1,1,2,2,2,3,3],[\"01/01 09:00\",\"01/01 10:00\",\"01/01 18:00\",\"01/02 06:00\",\"01/02 14:00\",\"01/02 20:00\",\"01/03 00:00\",\"01/03 05:00\"],[\"hikikomi\",\"tokomomi\",\"kirikaeshi\",\"mori\",\"naka_shigoto\",\"shimai_shigoto\",\"tsumikae\",\"dekoji\"],[\"35.0\",\"32.0\",\"32.0, 31.0\",\"35.0, 33.0\",\"37.0, 35.0\",\"38.0, 37.0\",\"40.0\",\"40.0\"],[28.0,28.0,28.0,28.0,28.0,28.0,28.0,28.0],[\"\",\"\",\"\",4,4,5,5,5]]}}],\n",
       "  {},\n",
       "  {\"linkText\":\"Export to plot.ly\",\"showLink\":true}\n",
       ")\n",
       "\n",
       "window.addEventListener('resize', function() {\n",
       "  Plotly.Plots.resize(document.getElementById('629ced80-ae63-4e09-9114-2d887d9b9101'))\n",
       "})\n",
       " }) \n",
       "</script>"
      ],
      "text/plain": [
       "#<Plotly::Offline::HTML:0x00007fa73084f7b8 @id=\"629ced80-ae63-4e09-9114-2d887d9b9101\", @data=[{:type=>:table, :header=>{:values=>[:day_label, :display_time, :mark, :temps, :room_temp, :room_psychrometry]}, :cells=>{:values=>[[1, 1, 1, 2, 2, 2, 3, 3], [\"01/01 09:00\", \"01/01 10:00\", \"01/01 18:00\", \"01/02 06:00\", \"01/02 14:00\", \"01/02 20:00\", \"01/03 00:00\", \"01/03 05:00\"], [\"hikikomi\", \"tokomomi\", \"kirikaeshi\", \"mori\", \"naka_shigoto\", \"shimai_shigoto\", \"tsumikae\", \"dekoji\"], [\"35.0\", \"32.0\", \"32.0, 31.0\", \"35.0, 33.0\", \"37.0, 35.0\", \"38.0, 37.0\", \"40.0\", \"40.0\"], [28.0, 28.0, 28.0, 28.0, 28.0, 28.0, 28.0, 28.0], [\"\", \"\", \"\", 4, 4, 5, 5, 5]]}}], @layout={}, @config={:linkText=>\"Export to plot.ly\", :showLink=>true}, @embedded=true>"
      ]
     },
     "metadata": {},
     "output_type": "display_data"
    },
    {
     "data": {
      "text/plain": [
       "#<CZTop::Socket::PUB:0x7fa73390a920 last_endpoint=\"tcp://127.0.0.1:56761\">"
      ]
     },
     "execution_count": 1,
     "metadata": {},
     "output_type": "execute_result"
    }
   ],
   "source": [
    "$LOAD_PATH << File.dirname(__FILE__) + \"/../lib\"\n",
    "require 'toji'\n",
    "require 'rbplotly'\n",
    "\n",
    "koji = Toji::Brew::Koji.load_yaml_file(\"koji_making.yaml\")\n",
    "koji.progress.plot.show\n",
    "koji.progress.table.show"
   ]
  },
  {
   "cell_type": "code",
   "execution_count": null,
   "metadata": {},
   "outputs": [],
   "source": []
  }
 ],
 "metadata": {
  "kernelspec": {
   "display_name": "Ruby 2.7.0",
   "language": "ruby",
   "name": "ruby"
  },
  "language_info": {
   "file_extension": ".rb",
   "mimetype": "application/x-ruby",
   "name": "ruby",
   "version": "2.6.3"
  }
 },
 "nbformat": 4,
 "nbformat_minor": 2
}
