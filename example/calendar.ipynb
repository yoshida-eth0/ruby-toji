{
 "cells": [
  {
   "cell_type": "code",
   "execution_count": 1,
   "metadata": {
    "scrolled": false
   },
   "outputs": [
    {
     "name": "stdout",
     "output_type": "stream",
     "text": [
      "仕1 姫野国夫による酒母省略仕込\n"
     ]
    },
    {
     "data": {
      "text/html": [
       "\n",
       "  <script>\n",
       "  requirejs.config({paths: { 'plotly': ['https://cdn.plot.ly/plotly-latest.min'] }})\n",
       "  </script>\n",
       "\n",
       "\n",
       "<div id=\"a5dc99bc-26e0-417b-86c0-98cbae4e548d\" style=\"height: 100%; width: 100%;\"></div>\n",
       "\n",
       "<script>\n",
       " require(['plotly'], function(Plotly) { \n",
       "Plotly.newPlot(\n",
       "  'a5dc99bc-26e0-417b-86c0-98cbae4e548d',\n",
       "  [{\"type\":\"table\",\"header\":{\"values\":[\"\",\"step0\",\"step1\",\"step2\",\"step3\",\"step4\",\"total\"]},\"cells\":{\"values\":[[\"rice_total\",\"kake\",\"koji\",\"alcohol\",\"water\",\"lactic_acid\"],[35.0,\"\",35,\"\",123,0.8],[65.0,65,\"\",\"\",\"\",\"\"],[200.0,150,50,\"\",200,\"\"],[300.0,245,55,\"\",400,\"\"],[\"\",\"\",\"\",\"\",128,\"\"],[600.0,460,140,\"\",851,0.8]]}}],\n",
       "  {\"height\":350},\n",
       "  {\"linkText\":\"Export to plot.ly\",\"showLink\":true}\n",
       ")\n",
       "\n",
       "window.addEventListener('resize', function() {\n",
       "  Plotly.Plots.resize(document.getElementById('a5dc99bc-26e0-417b-86c0-98cbae4e548d'))\n",
       "})\n",
       " }) \n",
       "</script>"
      ],
      "text/plain": [
       "#<Plotly::Offline::HTML:0x00007f8ee198ce30 @id=\"a5dc99bc-26e0-417b-86c0-98cbae4e548d\", @data=[{:type=>:table, :header=>{:values=>[\"\", :step0, :step1, :step2, :step3, :step4, :total]}, :cells=>{:values=>[[:rice_total, :kake, :koji, :alcohol, :water, :lactic_acid], [35.0, \"\", 35, \"\", 123, 0.8], [65.0, 65, \"\", \"\", \"\", \"\"], [200.0, 150, 50, \"\", 200, \"\"], [300.0, 245, 55, \"\", 400, \"\"], [\"\", \"\", \"\", \"\", 128, \"\"], [600.0, 460, 140, \"\", 851, 0.8]]}}], @layout={:height=>350}, @config={:linkText=>\"Export to plot.ly\", :showLink=>true}, @embedded=true>"
      ]
     },
     "metadata": {},
     "output_type": "display_data"
    },
    {
     "name": "stdout",
     "output_type": "stream",
     "text": [
      "仕2 姫野国夫による酒母省略仕込\n"
     ]
    },
    {
     "data": {
      "text/html": [
       "\n",
       "  <script>\n",
       "  requirejs.config({paths: { 'plotly': ['https://cdn.plot.ly/plotly-latest.min'] }})\n",
       "  </script>\n",
       "\n",
       "\n",
       "<div id=\"1cecf7c8-43d7-4f4f-ad00-5c94beb27c4f\" style=\"height: 100%; width: 100%;\"></div>\n",
       "\n",
       "<script>\n",
       " require(['plotly'], function(Plotly) { \n",
       "Plotly.newPlot(\n",
       "  '1cecf7c8-43d7-4f4f-ad00-5c94beb27c4f',\n",
       "  [{\"type\":\"table\",\"header\":{\"values\":[\"\",\"step0\",\"step1\",\"step2\",\"step3\",\"step4\",\"total\"]},\"cells\":{\"values\":[[\"rice_total\",\"kake\",\"koji\",\"alcohol\",\"water\",\"lactic_acid\"],[32.0,\"\",32,\"\",112,0.733],[60.0,60,\"\",\"\",\"\",\"\"],[184.0,138,46,\"\",183,\"\"],[275.0,225,50,\"\",367,\"\"],[\"\",\"\",\"\",\"\",117,\"\"],[551.0,423,128,\"\",779,0.733]]}}],\n",
       "  {\"height\":350},\n",
       "  {\"linkText\":\"Export to plot.ly\",\"showLink\":true}\n",
       ")\n",
       "\n",
       "window.addEventListener('resize', function() {\n",
       "  Plotly.Plots.resize(document.getElementById('1cecf7c8-43d7-4f4f-ad00-5c94beb27c4f'))\n",
       "})\n",
       " }) \n",
       "</script>"
      ],
      "text/plain": [
       "#<Plotly::Offline::HTML:0x00007f8ee41e4ae0 @id=\"1cecf7c8-43d7-4f4f-ad00-5c94beb27c4f\", @data=[{:type=>:table, :header=>{:values=>[\"\", :step0, :step1, :step2, :step3, :step4, :total]}, :cells=>{:values=>[[:rice_total, :kake, :koji, :alcohol, :water, :lactic_acid], [32.0, \"\", 32, \"\", 112, 0.733], [60.0, 60, \"\", \"\", \"\", \"\"], [184.0, 138, 46, \"\", 183, \"\"], [275.0, 225, 50, \"\", 367, \"\"], [\"\", \"\", \"\", \"\", 117, \"\"], [551.0, 423, 128, \"\", 779, 0.733]]}}], @layout={:height=>350}, @config={:linkText=>\"Export to plot.ly\", :showLink=>true}, @embedded=true>"
      ]
     },
     "metadata": {},
     "output_type": "display_data"
    },
    {
     "name": "stdout",
     "output_type": "stream",
     "text": [
      "仕3 灘における仕込配合\n"
     ]
    },
    {
     "data": {
      "text/html": [
       "\n",
       "  <script>\n",
       "  requirejs.config({paths: { 'plotly': ['https://cdn.plot.ly/plotly-latest.min'] }})\n",
       "  </script>\n",
       "\n",
       "\n",
       "<div id=\"50ae5125-17db-4960-9283-3bf6f2f55fd2\" style=\"height: 100%; width: 100%;\"></div>\n",
       "\n",
       "<script>\n",
       " require(['plotly'], function(Plotly) { \n",
       "Plotly.newPlot(\n",
       "  '50ae5125-17db-4960-9283-3bf6f2f55fd2',\n",
       "  [{\"type\":\"table\",\"header\":{\"values\":[\"\",\"step0\",\"step1\",\"step2\",\"step3\",\"step4\",\"total\"]},\"cells\":{\"values\":[[\"rice_total\",\"kake\",\"koji\",\"alcohol\",\"water\",\"lactic_acid\"],[63.0,42,21,\"\",77,0.524],[143.0,98,45,\"\",122,\"\"],[254.0,190,64,\"\",302,\"\"],[440.0,366,74,\"\",599,\"\"],[\"\",\"\",\"\",405,\"\",\"\"],[900.0,696,204,405,1100,0.524]]}}],\n",
       "  {\"height\":350},\n",
       "  {\"linkText\":\"Export to plot.ly\",\"showLink\":true}\n",
       ")\n",
       "\n",
       "window.addEventListener('resize', function() {\n",
       "  Plotly.Plots.resize(document.getElementById('50ae5125-17db-4960-9283-3bf6f2f55fd2'))\n",
       "})\n",
       " }) \n",
       "</script>"
      ],
      "text/plain": [
       "#<Plotly::Offline::HTML:0x00007f8ee30bb200 @id=\"50ae5125-17db-4960-9283-3bf6f2f55fd2\", @data=[{:type=>:table, :header=>{:values=>[\"\", :step0, :step1, :step2, :step3, :step4, :total]}, :cells=>{:values=>[[:rice_total, :kake, :koji, :alcohol, :water, :lactic_acid], [63.0, 42, 21, \"\", 77, 0.524], [143.0, 98, 45, \"\", 122, \"\"], [254.0, 190, 64, \"\", 302, \"\"], [440.0, 366, 74, \"\", 599, \"\"], [\"\", \"\", \"\", 405, \"\", \"\"], [900.0, 696, 204, 405, 1100, 0.524]]}}], @layout={:height=>350}, @config={:linkText=>\"Export to plot.ly\", :showLink=>true}, @embedded=true>"
      ]
     },
     "metadata": {},
     "output_type": "display_data"
    },
    {
     "name": "stdout",
     "output_type": "stream",
     "text": [
      "仕4 酒造教本による標準型仕込配合\n"
     ]
    },
    {
     "data": {
      "text/html": [
       "\n",
       "  <script>\n",
       "  requirejs.config({paths: { 'plotly': ['https://cdn.plot.ly/plotly-latest.min'] }})\n",
       "  </script>\n",
       "\n",
       "\n",
       "<div id=\"00063311-2316-476f-8a4d-78286c8c247f\" style=\"height: 100%; width: 100%;\"></div>\n",
       "\n",
       "<script>\n",
       " require(['plotly'], function(Plotly) { \n",
       "Plotly.newPlot(\n",
       "  '00063311-2316-476f-8a4d-78286c8c247f',\n",
       "  [{\"type\":\"table\",\"header\":{\"values\":[\"\",\"step0\",\"step1\",\"step2\",\"step3\",\"step4\",\"total\"]},\"cells\":{\"values\":[[\"rice_total\",\"kake\",\"koji\",\"alcohol\",\"water\",\"lactic_acid\"],[59.0,41,18,\"\",63,0.432],[126.0,90,36,\"\",117,\"\"],[248.0,194,54,\"\",297,\"\"],[396.0,324,72,\"\",567,\"\"],[72.0,72,\"\",\"\",108,\"\"],[901.0,721,180,\"\",1152,0.432]]}}],\n",
       "  {\"height\":350},\n",
       "  {\"linkText\":\"Export to plot.ly\",\"showLink\":true}\n",
       ")\n",
       "\n",
       "window.addEventListener('resize', function() {\n",
       "  Plotly.Plots.resize(document.getElementById('00063311-2316-476f-8a4d-78286c8c247f'))\n",
       "})\n",
       " }) \n",
       "</script>"
      ],
      "text/plain": [
       "#<Plotly::Offline::HTML:0x00007f8ee42316b0 @id=\"00063311-2316-476f-8a4d-78286c8c247f\", @data=[{:type=>:table, :header=>{:values=>[\"\", :step0, :step1, :step2, :step3, :step4, :total]}, :cells=>{:values=>[[:rice_total, :kake, :koji, :alcohol, :water, :lactic_acid], [59.0, 41, 18, \"\", 63, 0.432], [126.0, 90, 36, \"\", 117, \"\"], [248.0, 194, 54, \"\", 297, \"\"], [396.0, 324, 72, \"\", 567, \"\"], [72.0, 72, \"\", \"\", 108, \"\"], [901.0, 721, 180, \"\", 1152, 0.432]]}}], @layout={:height=>350}, @config={:linkText=>\"Export to plot.ly\", :showLink=>true}, @embedded=true>"
      ]
     },
     "metadata": {},
     "output_type": "display_data"
    },
    {
     "name": "stdout",
     "output_type": "stream",
     "text": [
      "仕5 灘における仕込配合\n"
     ]
    },
    {
     "data": {
      "text/html": [
       "\n",
       "  <script>\n",
       "  requirejs.config({paths: { 'plotly': ['https://cdn.plot.ly/plotly-latest.min'] }})\n",
       "  </script>\n",
       "\n",
       "\n",
       "<div id=\"adbe42d9-3046-4561-bd92-1494fc4c0b9e\" style=\"height: 100%; width: 100%;\"></div>\n",
       "\n",
       "<script>\n",
       " require(['plotly'], function(Plotly) { \n",
       "Plotly.newPlot(\n",
       "  'adbe42d9-3046-4561-bd92-1494fc4c0b9e',\n",
       "  [{\"type\":\"table\",\"header\":{\"values\":[\"\",\"step0\",\"step1\",\"step2\",\"step3\",\"step4\",\"total\"]},\"cells\":{\"values\":[[\"rice_total\",\"kake\",\"koji\",\"alcohol\",\"water\",\"lactic_acid\"],[63.0,42,21,\"\",77,0.524],[143.0,98,45,\"\",122,\"\"],[254.0,190,64,\"\",302,\"\"],[440.0,366,74,\"\",599,\"\"],[\"\",\"\",\"\",405,\"\",\"\"],[900.0,696,204,405,1100,0.524]]}}],\n",
       "  {\"height\":350},\n",
       "  {\"linkText\":\"Export to plot.ly\",\"showLink\":true}\n",
       ")\n",
       "\n",
       "window.addEventListener('resize', function() {\n",
       "  Plotly.Plots.resize(document.getElementById('adbe42d9-3046-4561-bd92-1494fc4c0b9e'))\n",
       "})\n",
       " }) \n",
       "</script>"
      ],
      "text/plain": [
       "#<Plotly::Offline::HTML:0x00007f8ee3905f00 @id=\"adbe42d9-3046-4561-bd92-1494fc4c0b9e\", @data=[{:type=>:table, :header=>{:values=>[\"\", :step0, :step1, :step2, :step3, :step4, :total]}, :cells=>{:values=>[[:rice_total, :kake, :koji, :alcohol, :water, :lactic_acid], [63.0, 42, 21, \"\", 77, 0.524], [143.0, 98, 45, \"\", 122, \"\"], [254.0, 190, 64, \"\", 302, \"\"], [440.0, 366, 74, \"\", 599, \"\"], [\"\", \"\", \"\", 405, \"\", \"\"], [900.0, 696, 204, 405, 1100, 0.524]]}}], @layout={:height=>350}, @config={:linkText=>\"Export to plot.ly\", :showLink=>true}, @embedded=true>"
      ]
     },
     "metadata": {},
     "output_type": "display_data"
    },
    {
     "name": "stdout",
     "output_type": "stream",
     "text": [
      "仕6 酒造教本による標準型仕込配合\n"
     ]
    },
    {
     "data": {
      "text/html": [
       "\n",
       "  <script>\n",
       "  requirejs.config({paths: { 'plotly': ['https://cdn.plot.ly/plotly-latest.min'] }})\n",
       "  </script>\n",
       "\n",
       "\n",
       "<div id=\"3c251bc3-187f-4388-884c-d6b4de38d6ee\" style=\"height: 100%; width: 100%;\"></div>\n",
       "\n",
       "<script>\n",
       " require(['plotly'], function(Plotly) { \n",
       "Plotly.newPlot(\n",
       "  '3c251bc3-187f-4388-884c-d6b4de38d6ee',\n",
       "  [{\"type\":\"table\",\"header\":{\"values\":[\"\",\"step0\",\"step1\",\"step2\",\"step3\",\"step4\",\"total\"]},\"cells\":{\"values\":[[\"rice_total\",\"kake\",\"koji\",\"alcohol\",\"water\",\"lactic_acid\"],[59.0,41,18,\"\",63,0.432],[126.0,90,36,\"\",117,\"\"],[248.0,194,54,\"\",297,\"\"],[396.0,324,72,\"\",567,\"\"],[72.0,72,\"\",\"\",108,\"\"],[901.0,721,180,\"\",1152,0.432]]}}],\n",
       "  {\"height\":350},\n",
       "  {\"linkText\":\"Export to plot.ly\",\"showLink\":true}\n",
       ")\n",
       "\n",
       "window.addEventListener('resize', function() {\n",
       "  Plotly.Plots.resize(document.getElementById('3c251bc3-187f-4388-884c-d6b4de38d6ee'))\n",
       "})\n",
       " }) \n",
       "</script>"
      ],
      "text/plain": [
       "#<Plotly::Offline::HTML:0x00007f8ee42bfca8 @id=\"3c251bc3-187f-4388-884c-d6b4de38d6ee\", @data=[{:type=>:table, :header=>{:values=>[\"\", :step0, :step1, :step2, :step3, :step4, :total]}, :cells=>{:values=>[[:rice_total, :kake, :koji, :alcohol, :water, :lactic_acid], [59.0, 41, 18, \"\", 63, 0.432], [126.0, 90, 36, \"\", 117, \"\"], [248.0, 194, 54, \"\", 297, \"\"], [396.0, 324, 72, \"\", 567, \"\"], [72.0, 72, \"\", \"\", 108, \"\"], [901.0, 721, 180, \"\", 1152, 0.432]]}}], @layout={:height=>350}, @config={:linkText=>\"Export to plot.ly\", :showLink=>true}, @embedded=true>"
      ]
     },
     "metadata": {},
     "output_type": "display_data"
    },
    {
     "data": {
      "text/html": [
       "\n",
       "  <script>\n",
       "  requirejs.config({paths: { 'plotly': ['https://cdn.plot.ly/plotly-latest.min'] }})\n",
       "  </script>\n",
       "\n",
       "\n",
       "<div id=\"7827c4c5-31ef-4cf0-ad25-0f468ee99fef\" style=\"height: 100%; width: 100%;\"></div>\n",
       "\n",
       "<script>\n",
       " require(['plotly'], function(Plotly) { \n",
       "Plotly.newPlot(\n",
       "  '7827c4c5-31ef-4cf0-ad25-0f468ee99fef',\n",
       "  [{\"type\":\"table\",\"header\":{\"values\":[\"date\",\"moto_koji\",\"moromi_koji\",\"moto\",\"soe\",\"naka\",\"tome\",\"yodan\"]},\"cells\":{\"values\":[[\"02/20\",\"02/21\",\"02/22\",\"02/23\",\"02/24\",\"02/25\",\"02/26\",\"02/27\",\"02/28\",\"02/29\",\"03/01\",\"03/02\",\"03/03\",\"03/04\",\"03/05\",\"03/06\",\"03/07\",\"03/08\",\"03/09\",\"03/10\",\"03/11\",\"03/12\",\"03/13\",\"03/14\",\"03/15\",\"03/16\",\"03/17\",\"03/18\",\"03/19\",\"03/20\",\"03/21\",\"03/22\",\"03/23\",\"03/24\",\"03/25\",\"03/26\",\"03/27\",\"03/28\",\"03/29\",\"03/30\",\"03/31\",\"04/01\",\"04/02\",\"04/03\",\"04/04\",\"04/05\",\"04/06\",\"04/07\",\"04/08\",\"04/09\",\"04/10\",\"04/11\",\"04/12\",\"04/13\",\"04/14\",\"04/15\"],[\"仕3: 21\\u003cbr\\u003e仕4: 18\",[],[],[],\"仕1: 140\",\"\",[],\"仕2: 128\\u003cbr\\u003e仕5: 21\\u003cbr\\u003e仕6: 18\",[],[],[],\"\",\"\",\"\",\"\",[],\"\",\"\",\"\",[],\"\",\"\",\"\",\"\",[],\"\",[],\"\",\"\",\"\",\"\",[],[],[],[],[],[],[],[],[],[],[],[],[],[],[],[],[],\"\",[],[],[],[],[],[],\"\"],[\"\",[],[],[],\"\",\"\",[],\"\",[],[],[],\"仕3: 183\",\"\",\"\",\"仕4: 162\",[],\"\",\"\",\"仕5: 183\",[],\"\",\"仕6: 162\",\"\",\"\",[],\"\",[],\"\",\"\",\"\",\"\",[],[],[],[],[],[],[],[],[],[],[],[],[],[],[],[],[],\"\",[],[],[],[],[],[],\"\"],[\"\",[],[],[],\"\",\"仕3: 42\\u003cbr\\u003e仕4: 41\",[],\"\",[],[],[],\"\",\"仕5: 42\\u003cbr\\u003e仕6: 41\",\"\",\"\",[],\"\",\"\",\"\",[],\"\",\"\",\"\",\"\",[],\"\",[],\"\",\"\",\"\",\"\",[],[],[],[],[],[],[],[],[],[],[],[],[],[],[],[],[],\"\",[],[],[],[],[],[],\"\"],[\"\",[],[],[],\"\",\"\",[],\"\",[],[],[],\"仕1: 65\",\"\",\"仕2: 60\",\"\",[],\"\",\"\",\"仕3: 98\",[],\"仕4: 90\",\"\",\"\",\"\",[],\"仕5: 98\",[],\"仕6: 90\",\"\",\"\",\"\",[],[],[],[],[],[],[],[],[],[],[],[],[],[],[],[],[],\"\",[],[],[],[],[],[],\"\"],[\"\",[],[],[],\"\",\"\",[],\"\",[],[],[],\"\",\"\",\"仕1: 150\",\"\",[],\"仕2: 138\",\"\",\"\",[],\"仕3: 190\",\"\",\"仕4: 194\",\"\",[],\"\",[],\"仕5: 190\",\"\",\"仕6: 194\",\"\",[],[],[],[],[],[],[],[],[],[],[],[],[],[],[],[],[],\"\",[],[],[],[],[],[],\"\"],[\"\",[],[],[],\"\",\"\",[],\"\",[],[],[],\"\",\"\",\"\",\"仕1: 245\",[],\"\",\"仕2: 225\",\"\",[],\"\",\"仕3: 366\",\"\",\"仕4: 324\",[],\"\",[],\"\",\"仕5: 366\",\"\",\"仕6: 324\",[],[],[],[],[],[],[],[],[],[],[],[],[],[],[],[],[],\"\",[],[],[],[],[],[],\"\"],[\"\",[],[],[],\"\",\"\",[],\"\",[],[],[],\"\",\"\",\"\",\"\",[],\"\",\"\",\"\",[],\"\",\"\",\"\",\"\",[],\"\",[],\"\",\"\",\"\",\"\",[],[],[],[],[],[],[],[],[],[],[],[],[],[],[],[],[],\"仕4: 72\",[],[],[],[],[],[],\"仕6: 72\"]]}}],\n",
       "  {\"height\":1000},\n",
       "  {\"linkText\":\"Export to plot.ly\",\"showLink\":true}\n",
       ")\n",
       "\n",
       "window.addEventListener('resize', function() {\n",
       "  Plotly.Plots.resize(document.getElementById('7827c4c5-31ef-4cf0-ad25-0f468ee99fef'))\n",
       "})\n",
       " }) \n",
       "</script>"
      ],
      "text/plain": [
       "#<Plotly::Offline::HTML:0x00007f8ee4476268 @id=\"7827c4c5-31ef-4cf0-ad25-0f468ee99fef\", @data=[{:type=>:table, :header=>{:values=>[:date, :moto_koji, :moromi_koji, :moto, :soe, :naka, :tome, :yodan]}, :cells=>{:values=>[[\"02/20\", \"02/21\", \"02/22\", \"02/23\", \"02/24\", \"02/25\", \"02/26\", \"02/27\", \"02/28\", \"02/29\", \"03/01\", \"03/02\", \"03/03\", \"03/04\", \"03/05\", \"03/06\", \"03/07\", \"03/08\", \"03/09\", \"03/10\", \"03/11\", \"03/12\", \"03/13\", \"03/14\", \"03/15\", \"03/16\", \"03/17\", \"03/18\", \"03/19\", \"03/20\", \"03/21\", \"03/22\", \"03/23\", \"03/24\", \"03/25\", \"03/26\", \"03/27\", \"03/28\", \"03/29\", \"03/30\", \"03/31\", \"04/01\", \"04/02\", \"04/03\", \"04/04\", \"04/05\", \"04/06\", \"04/07\", \"04/08\", \"04/09\", \"04/10\", \"04/11\", \"04/12\", \"04/13\", \"04/14\", \"04/15\"], [\"仕3: 21<br>仕4: 18\", [], [], [], \"仕1: 140\", \"\", [], \"仕2: 128<br>仕5: 21<br>仕6: 18\", [], [], [], \"\", \"\", \"\", \"\", [], \"\", \"\", \"\", [], \"\", \"\", \"\", \"\", [], \"\", [], \"\", \"\", \"\", \"\", [], [], [], [], [], [], [], [], [], [], [], [], [], [], [], [], [], \"\", [], [], [], [], [], [], \"\"], [\"\", [], [], [], \"\", \"\", [], \"\", [], [], [], \"仕3: 183\", \"\", \"\", \"仕4: 162\", [], \"\", \"\", \"仕5: 183\", [], \"\", \"仕6: 162\", \"\", \"\", [], \"\", [], \"\", \"\", \"\", \"\", [], [], [], [], [], [], [], [], [], [], [], [], [], [], [], [], [], \"\", [], [], [], [], [], [], \"\"], [\"\", [], [], [], \"\", \"仕3: 42<br>仕4: 41\", [], \"\", [], [], [], \"\", \"仕5: 42<br>仕6: 41\", \"\", \"\", [], \"\", \"\", \"\", [], \"\", \"\", \"\", \"\", [], \"\", [], \"\", \"\", \"\", \"\", [], [], [], [], [], [], [], [], [], [], [], [], [], [], [], [], [], \"\", [], [], [], [], [], [], \"\"], [\"\", [], [], [], \"\", \"\", [], \"\", [], [], [], \"仕1: 65\", \"\", \"仕2: 60\", \"\", [], \"\", \"\", \"仕3: 98\", [], \"仕4: 90\", \"\", \"\", \"\", [], \"仕5: 98\", [], \"仕6: 90\", \"\", \"\", \"\", [], [], [], [], [], [], [], [], [], [], [], [], [], [], [], [], [], \"\", [], [], [], [], [], [], \"\"], [\"\", [], [], [], \"\", \"\", [], \"\", [], [], [], \"\", \"\", \"仕1: 150\", \"\", [], \"仕2: 138\", \"\", \"\", [], \"仕3: 190\", \"\", \"仕4: 194\", \"\", [], \"\", [], \"仕5: 190\", \"\", \"仕6: 194\", \"\", [], [], [], [], [], [], [], [], [], [], [], [], [], [], [], [], [], \"\", [], [], [], [], [], [], \"\"], [\"\", [], [], [], \"\", \"\", [], \"\", [], [], [], \"\", \"\", \"\", \"仕1: 245\", [], \"\", \"仕2: 225\", \"\", [], \"\", \"仕3: 366\", \"\", \"仕4: 324\", [], \"\", [], \"\", \"仕5: 366\", \"\", \"仕6: 324\", [], [], [], [], [], [], [], [], [], [], [], [], [], [], [], [], [], \"\", [], [], [], [], [], [], \"\"], [\"\", [], [], [], \"\", \"\", [], \"\", [], [], [], \"\", \"\", \"\", \"\", [], \"\", \"\", \"\", [], \"\", \"\", \"\", \"\", [], \"\", [], \"\", \"\", \"\", \"\", [], [], [], [], [], [], [], [], [], [], [], [], [], [], [], [], [], \"仕4: 72\", [], [], [], [], [], [], \"仕6: 72\"]]}}], @layout={:height=>1000}, @config={:linkText=>\"Export to plot.ly\", :showLink=>true}, @embedded=true>"
      ]
     },
     "metadata": {},
     "output_type": "display_data"
    },
    {
     "data": {
      "text/plain": [
       "#<CZTop::Socket::PUB:0x7f8ee27f9c60 last_endpoint=\"tcp://127.0.0.1:61646\">"
      ]
     },
     "execution_count": 1,
     "metadata": {},
     "output_type": "execute_result"
    }
   ],
   "source": [
    "$LOAD_PATH << File.dirname(__FILE__) + \"/../lib\"\n",
    "require 'toji'\n",
    "require './example_core'\n",
    "require 'rbplotly'\n",
    "\n",
    "cal = Toji::Calendar.new\n",
    ".add(Example::Product.create(\n",
    "  name: \"仕1\",\n",
    "  description: \"姫野国夫による酒母省略仕込\",\n",
    "  recipe: Example::Recipe::TEMPLATES[:simple_sokujo_himeno].scale(600).round(0),\n",
    "  base_date: Time.mktime(2020, 2, 24)\n",
    "))\n",
    ".add(Example::Product.create(\n",
    "  name: \"仕2\",\n",
    "  description: \"姫野国夫による酒母省略仕込\",\n",
    "  recipe: Example::Recipe::TEMPLATES[:simple_sokujo_himeno].scale(550).round(0).tap {|r|\n",
    "    r.steps[0].kake_interval_days = 5\n",
    "    r.steps[2].kake_interval_days = 3\n",
    "  },\n",
    "  base_date: Time.mktime(2020, 2, 27)\n",
    "))\n",
    ".add(Example::Product.create(\n",
    "  name: \"仕3\",\n",
    "  description: \"灘における仕込配合\",\n",
    "  recipe: Example::Recipe::TEMPLATES[:sokujo_nada].scale(900).round(0).tap {|r|\n",
    "    r.steps[1].koji_interval_days = 11\n",
    "    r.steps[1].kake_interval_days = 13\n",
    "  },\n",
    "  base_date: Time.mktime(2020, 2, 20)\n",
    "))\n",
    ".add(Example::Product.create(\n",
    "  name: \"仕4\",\n",
    "  description: \"酒造教本による標準型仕込配合\",\n",
    "  recipe: Example::Recipe::TEMPLATES[:sokujo_textbook].scale(900).round(0),\n",
    "  base_date: Time.mktime(2020, 2, 20)\n",
    "))\n",
    ".add(Example::Product.create(\n",
    "  name: \"仕5\",\n",
    "  description: \"灘における仕込配合\",\n",
    "  recipe: Example::Recipe::TEMPLATES[:sokujo_nada].scale(900).round(0).tap {|r|\n",
    "    r.steps[1].koji_interval_days = 11\n",
    "    r.steps[1].kake_interval_days = 13\n",
    "  },\n",
    "  base_date: Time.mktime(2020, 2, 27)\n",
    "))\n",
    ".add(Example::Product.create(\n",
    "  name: \"仕6\",\n",
    "  description: \"酒造教本による標準型仕込配合\",\n",
    "  recipe: Example::Recipe::TEMPLATES[:sokujo_textbook].scale(900).round(0),\n",
    "  base_date: Time.mktime(2020, 2, 27)\n",
    "))\n",
    "\n",
    "cal.products.each {|product|\n",
    "  puts \"%s %s\" % [product.name, product.description]\n",
    "  \n",
    "  product.recipe.table.tap {|t|\n",
    "    t.layout.height = 350\n",
    "  }.show\n",
    "}\n",
    "\n",
    "cal.table.tap {|t|\n",
    "  t.layout.height = 1000\n",
    "}.show"
   ]
  },
  {
   "cell_type": "code",
   "execution_count": null,
   "metadata": {},
   "outputs": [],
   "source": []
  }
 ],
 "metadata": {
  "kernelspec": {
   "display_name": "Ruby 2.7.1",
   "language": "ruby",
   "name": "ruby"
  },
  "language_info": {
   "file_extension": ".rb",
   "mimetype": "application/x-ruby",
   "name": "ruby",
   "version": "2.6.3"
  }
 },
 "nbformat": 4,
 "nbformat_minor": 2
}
