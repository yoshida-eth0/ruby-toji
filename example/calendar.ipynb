{
 "cells": [
  {
   "cell_type": "code",
   "execution_count": 1,
   "metadata": {
    "scrolled": false
   },
   "outputs": [
    {
     "name": "stdout",
     "output_type": "stream",
     "text": [
      "仕1 姫野国夫による酒母省略仕込\n"
     ]
    },
    {
     "data": {
      "text/html": [
       "\n",
       "  <script>\n",
       "  requirejs.config({paths: { 'plotly': ['https://cdn.plot.ly/plotly-latest.min'] }})\n",
       "  </script>\n",
       "\n",
       "\n",
       "<div id=\"7340084a-17cd-42b7-be5f-e367466cd3b9\" style=\"height: 100%; width: 100%;\"></div>\n",
       "\n",
       "<script>\n",
       " require(['plotly'], function(Plotly) { \n",
       "Plotly.newPlot(\n",
       "  '7340084a-17cd-42b7-be5f-e367466cd3b9',\n",
       "  [{\"type\":\"table\",\"header\":{\"values\":[\"\",\"step0\",\"step1\",\"step2\",\"step3\",\"step4\",\"total\"]},\"cells\":{\"values\":[[\"rice_total\",\"kake\",\"koji\",\"alcohol\",\"water\",\"lactic_acid\"],[35.0,\"\",35,\"\",123,0.367],[65.0,65,\"\",\"\",\"\",\"\"],[200.0,150,50,\"\",200,\"\"],[300.0,245,55,\"\",400,\"\"],[\"\",\"\",\"\",\"\",128,\"\"],[600.0,460,140,\"\",851,0.367]]}}],\n",
       "  {\"height\":350},\n",
       "  {\"linkText\":\"Export to plot.ly\",\"showLink\":true}\n",
       ")\n",
       "\n",
       "window.addEventListener('resize', function() {\n",
       "  Plotly.Plots.resize(document.getElementById('7340084a-17cd-42b7-be5f-e367466cd3b9'))\n",
       "})\n",
       " }) \n",
       "</script>"
      ],
      "text/plain": [
       "#<Plotly::Offline::HTML:0x00007ff1fb9b5830 @id=\"7340084a-17cd-42b7-be5f-e367466cd3b9\", @data=[{:type=>:table, :header=>{:values=>[\"\", :step0, :step1, :step2, :step3, :step4, :total]}, :cells=>{:values=>[[:rice_total, :kake, :koji, :alcohol, :water, :lactic_acid], [35.0, \"\", 35, \"\", 123, 0.367], [65.0, 65, \"\", \"\", \"\", \"\"], [200.0, 150, 50, \"\", 200, \"\"], [300.0, 245, 55, \"\", 400, \"\"], [\"\", \"\", \"\", \"\", 128, \"\"], [600.0, 460, 140, \"\", 851, 0.367]]}}], @layout={:height=>350}, @config={:linkText=>\"Export to plot.ly\", :showLink=>true}, @embedded=true>"
      ]
     },
     "metadata": {},
     "output_type": "display_data"
    },
    {
     "name": "stdout",
     "output_type": "stream",
     "text": [
      "仕2 姫野国夫による酒母省略仕込\n"
     ]
    },
    {
     "data": {
      "text/html": [
       "\n",
       "  <script>\n",
       "  requirejs.config({paths: { 'plotly': ['https://cdn.plot.ly/plotly-latest.min'] }})\n",
       "  </script>\n",
       "\n",
       "\n",
       "<div id=\"c53c2d50-01c9-4db9-ab25-f3b8910cc9f6\" style=\"height: 100%; width: 100%;\"></div>\n",
       "\n",
       "<script>\n",
       " require(['plotly'], function(Plotly) { \n",
       "Plotly.newPlot(\n",
       "  'c53c2d50-01c9-4db9-ab25-f3b8910cc9f6',\n",
       "  [{\"type\":\"table\",\"header\":{\"values\":[\"\",\"step0\",\"step1\",\"step2\",\"step3\",\"step4\",\"total\"]},\"cells\":{\"values\":[[\"rice_total\",\"kake\",\"koji\",\"alcohol\",\"water\",\"lactic_acid\"],[32.0,\"\",32,\"\",112,0.367],[60.0,60,\"\",\"\",\"\",\"\"],[184.0,138,46,\"\",183,\"\"],[275.0,225,50,\"\",367,\"\"],[\"\",\"\",\"\",\"\",117,\"\"],[551.0,423,128,\"\",779,0.367]]}}],\n",
       "  {\"height\":350},\n",
       "  {\"linkText\":\"Export to plot.ly\",\"showLink\":true}\n",
       ")\n",
       "\n",
       "window.addEventListener('resize', function() {\n",
       "  Plotly.Plots.resize(document.getElementById('c53c2d50-01c9-4db9-ab25-f3b8910cc9f6'))\n",
       "})\n",
       " }) \n",
       "</script>"
      ],
      "text/plain": [
       "#<Plotly::Offline::HTML:0x00007ff1fba3f440 @id=\"c53c2d50-01c9-4db9-ab25-f3b8910cc9f6\", @data=[{:type=>:table, :header=>{:values=>[\"\", :step0, :step1, :step2, :step3, :step4, :total]}, :cells=>{:values=>[[:rice_total, :kake, :koji, :alcohol, :water, :lactic_acid], [32.0, \"\", 32, \"\", 112, 0.367], [60.0, 60, \"\", \"\", \"\", \"\"], [184.0, 138, 46, \"\", 183, \"\"], [275.0, 225, 50, \"\", 367, \"\"], [\"\", \"\", \"\", \"\", 117, \"\"], [551.0, 423, 128, \"\", 779, 0.367]]}}], @layout={:height=>350}, @config={:linkText=>\"Export to plot.ly\", :showLink=>true}, @embedded=true>"
      ]
     },
     "metadata": {},
     "output_type": "display_data"
    },
    {
     "name": "stdout",
     "output_type": "stream",
     "text": [
      "仕3 灘における仕込配合\n"
     ]
    },
    {
     "data": {
      "text/html": [
       "\n",
       "  <script>\n",
       "  requirejs.config({paths: { 'plotly': ['https://cdn.plot.ly/plotly-latest.min'] }})\n",
       "  </script>\n",
       "\n",
       "\n",
       "<div id=\"d7d29b87-10d8-4d90-8463-4166762f2480\" style=\"height: 100%; width: 100%;\"></div>\n",
       "\n",
       "<script>\n",
       " require(['plotly'], function(Plotly) { \n",
       "Plotly.newPlot(\n",
       "  'd7d29b87-10d8-4d90-8463-4166762f2480',\n",
       "  [{\"type\":\"table\",\"header\":{\"values\":[\"\",\"step0\",\"step1\",\"step2\",\"step3\",\"step4\",\"total\"]},\"cells\":{\"values\":[[\"rice_total\",\"kake\",\"koji\",\"alcohol\",\"water\",\"lactic_acid\"],[63.0,42,21,\"\",77,0.236],[143.0,98,45,\"\",122,\"\"],[254.0,190,64,\"\",302,\"\"],[440.0,366,74,\"\",599,\"\"],[\"\",\"\",\"\",182,\"\",\"\"],[900.0,696,204,182,1100,0.236]]}}],\n",
       "  {\"height\":350},\n",
       "  {\"linkText\":\"Export to plot.ly\",\"showLink\":true}\n",
       ")\n",
       "\n",
       "window.addEventListener('resize', function() {\n",
       "  Plotly.Plots.resize(document.getElementById('d7d29b87-10d8-4d90-8463-4166762f2480'))\n",
       "})\n",
       " }) \n",
       "</script>"
      ],
      "text/plain": [
       "#<Plotly::Offline::HTML:0x00007ff1fbabae10 @id=\"d7d29b87-10d8-4d90-8463-4166762f2480\", @data=[{:type=>:table, :header=>{:values=>[\"\", :step0, :step1, :step2, :step3, :step4, :total]}, :cells=>{:values=>[[:rice_total, :kake, :koji, :alcohol, :water, :lactic_acid], [63.0, 42, 21, \"\", 77, 0.236], [143.0, 98, 45, \"\", 122, \"\"], [254.0, 190, 64, \"\", 302, \"\"], [440.0, 366, 74, \"\", 599, \"\"], [\"\", \"\", \"\", 182, \"\", \"\"], [900.0, 696, 204, 182, 1100, 0.236]]}}], @layout={:height=>350}, @config={:linkText=>\"Export to plot.ly\", :showLink=>true}, @embedded=true>"
      ]
     },
     "metadata": {},
     "output_type": "display_data"
    },
    {
     "name": "stdout",
     "output_type": "stream",
     "text": [
      "仕4 酒造教本による標準型仕込配合\n"
     ]
    },
    {
     "data": {
      "text/html": [
       "\n",
       "  <script>\n",
       "  requirejs.config({paths: { 'plotly': ['https://cdn.plot.ly/plotly-latest.min'] }})\n",
       "  </script>\n",
       "\n",
       "\n",
       "<div id=\"e875096c-2ad5-4c82-ac7c-924323cb83c5\" style=\"height: 100%; width: 100%;\"></div>\n",
       "\n",
       "<script>\n",
       " require(['plotly'], function(Plotly) { \n",
       "Plotly.newPlot(\n",
       "  'e875096c-2ad5-4c82-ac7c-924323cb83c5',\n",
       "  [{\"type\":\"table\",\"header\":{\"values\":[\"\",\"step0\",\"step1\",\"step2\",\"step3\",\"step4\",\"total\"]},\"cells\":{\"values\":[[\"rice_total\",\"kake\",\"koji\",\"alcohol\",\"water\",\"lactic_acid\"],[59.0,41,18,\"\",63,0.389],[126.0,90,36,\"\",117,\"\"],[248.0,194,54,\"\",297,\"\"],[396.0,324,72,\"\",567,\"\"],[72.0,72,\"\",\"\",108,\"\"],[901.0,721,180,\"\",1152,0.389]]}}],\n",
       "  {\"height\":350},\n",
       "  {\"linkText\":\"Export to plot.ly\",\"showLink\":true}\n",
       ")\n",
       "\n",
       "window.addEventListener('resize', function() {\n",
       "  Plotly.Plots.resize(document.getElementById('e875096c-2ad5-4c82-ac7c-924323cb83c5'))\n",
       "})\n",
       " }) \n",
       "</script>"
      ],
      "text/plain": [
       "#<Plotly::Offline::HTML:0x00007ff1fbb4a920 @id=\"e875096c-2ad5-4c82-ac7c-924323cb83c5\", @data=[{:type=>:table, :header=>{:values=>[\"\", :step0, :step1, :step2, :step3, :step4, :total]}, :cells=>{:values=>[[:rice_total, :kake, :koji, :alcohol, :water, :lactic_acid], [59.0, 41, 18, \"\", 63, 0.389], [126.0, 90, 36, \"\", 117, \"\"], [248.0, 194, 54, \"\", 297, \"\"], [396.0, 324, 72, \"\", 567, \"\"], [72.0, 72, \"\", \"\", 108, \"\"], [901.0, 721, 180, \"\", 1152, 0.389]]}}], @layout={:height=>350}, @config={:linkText=>\"Export to plot.ly\", :showLink=>true}, @embedded=true>"
      ]
     },
     "metadata": {},
     "output_type": "display_data"
    },
    {
     "name": "stdout",
     "output_type": "stream",
     "text": [
      "仕5 灘における仕込配合\n"
     ]
    },
    {
     "data": {
      "text/html": [
       "\n",
       "  <script>\n",
       "  requirejs.config({paths: { 'plotly': ['https://cdn.plot.ly/plotly-latest.min'] }})\n",
       "  </script>\n",
       "\n",
       "\n",
       "<div id=\"4160154e-f531-46d9-88a0-37e161b319bc\" style=\"height: 100%; width: 100%;\"></div>\n",
       "\n",
       "<script>\n",
       " require(['plotly'], function(Plotly) { \n",
       "Plotly.newPlot(\n",
       "  '4160154e-f531-46d9-88a0-37e161b319bc',\n",
       "  [{\"type\":\"table\",\"header\":{\"values\":[\"\",\"step0\",\"step1\",\"step2\",\"step3\",\"step4\",\"total\"]},\"cells\":{\"values\":[[\"rice_total\",\"kake\",\"koji\",\"alcohol\",\"water\",\"lactic_acid\"],[63.0,42,21,\"\",77,0.236],[143.0,98,45,\"\",122,\"\"],[254.0,190,64,\"\",302,\"\"],[440.0,366,74,\"\",599,\"\"],[\"\",\"\",\"\",182,\"\",\"\"],[900.0,696,204,182,1100,0.236]]}}],\n",
       "  {\"height\":350},\n",
       "  {\"linkText\":\"Export to plot.ly\",\"showLink\":true}\n",
       ")\n",
       "\n",
       "window.addEventListener('resize', function() {\n",
       "  Plotly.Plots.resize(document.getElementById('4160154e-f531-46d9-88a0-37e161b319bc'))\n",
       "})\n",
       " }) \n",
       "</script>"
      ],
      "text/plain": [
       "#<Plotly::Offline::HTML:0x00007ff1fa897da0 @id=\"4160154e-f531-46d9-88a0-37e161b319bc\", @data=[{:type=>:table, :header=>{:values=>[\"\", :step0, :step1, :step2, :step3, :step4, :total]}, :cells=>{:values=>[[:rice_total, :kake, :koji, :alcohol, :water, :lactic_acid], [63.0, 42, 21, \"\", 77, 0.236], [143.0, 98, 45, \"\", 122, \"\"], [254.0, 190, 64, \"\", 302, \"\"], [440.0, 366, 74, \"\", 599, \"\"], [\"\", \"\", \"\", 182, \"\", \"\"], [900.0, 696, 204, 182, 1100, 0.236]]}}], @layout={:height=>350}, @config={:linkText=>\"Export to plot.ly\", :showLink=>true}, @embedded=true>"
      ]
     },
     "metadata": {},
     "output_type": "display_data"
    },
    {
     "name": "stdout",
     "output_type": "stream",
     "text": [
      "仕6 酒造教本による標準型仕込配合\n"
     ]
    },
    {
     "data": {
      "text/html": [
       "\n",
       "  <script>\n",
       "  requirejs.config({paths: { 'plotly': ['https://cdn.plot.ly/plotly-latest.min'] }})\n",
       "  </script>\n",
       "\n",
       "\n",
       "<div id=\"121816cd-67cf-4225-86b8-88c4086fe6a1\" style=\"height: 100%; width: 100%;\"></div>\n",
       "\n",
       "<script>\n",
       " require(['plotly'], function(Plotly) { \n",
       "Plotly.newPlot(\n",
       "  '121816cd-67cf-4225-86b8-88c4086fe6a1',\n",
       "  [{\"type\":\"table\",\"header\":{\"values\":[\"\",\"step0\",\"step1\",\"step2\",\"step3\",\"step4\",\"total\"]},\"cells\":{\"values\":[[\"rice_total\",\"kake\",\"koji\",\"alcohol\",\"water\",\"lactic_acid\"],[59.0,41,18,\"\",63,0.389],[126.0,90,36,\"\",117,\"\"],[248.0,194,54,\"\",297,\"\"],[396.0,324,72,\"\",567,\"\"],[72.0,72,\"\",\"\",108,\"\"],[901.0,721,180,\"\",1152,0.389]]}}],\n",
       "  {\"height\":350},\n",
       "  {\"linkText\":\"Export to plot.ly\",\"showLink\":true}\n",
       ")\n",
       "\n",
       "window.addEventListener('resize', function() {\n",
       "  Plotly.Plots.resize(document.getElementById('121816cd-67cf-4225-86b8-88c4086fe6a1'))\n",
       "})\n",
       " }) \n",
       "</script>"
      ],
      "text/plain": [
       "#<Plotly::Offline::HTML:0x00007ff1fa9c2658 @id=\"121816cd-67cf-4225-86b8-88c4086fe6a1\", @data=[{:type=>:table, :header=>{:values=>[\"\", :step0, :step1, :step2, :step3, :step4, :total]}, :cells=>{:values=>[[:rice_total, :kake, :koji, :alcohol, :water, :lactic_acid], [59.0, 41, 18, \"\", 63, 0.389], [126.0, 90, 36, \"\", 117, \"\"], [248.0, 194, 54, \"\", 297, \"\"], [396.0, 324, 72, \"\", 567, \"\"], [72.0, 72, \"\", \"\", 108, \"\"], [901.0, 721, 180, \"\", 1152, 0.389]]}}], @layout={:height=>350}, @config={:linkText=>\"Export to plot.ly\", :showLink=>true}, @embedded=true>"
      ]
     },
     "metadata": {},
     "output_type": "display_data"
    },
    {
     "data": {
      "text/html": [
       "\n",
       "  <script>\n",
       "  requirejs.config({paths: { 'plotly': ['https://cdn.plot.ly/plotly-latest.min'] }})\n",
       "  </script>\n",
       "\n",
       "\n",
       "<div id=\"df945ff0-f333-4e6f-bb4b-75a4efb26124\" style=\"height: 100%; width: 100%;\"></div>\n",
       "\n",
       "<script>\n",
       " require(['plotly'], function(Plotly) { \n",
       "Plotly.newPlot(\n",
       "  'df945ff0-f333-4e6f-bb4b-75a4efb26124',\n",
       "  [{\"type\":\"table\",\"header\":{\"values\":[\"date\",\"moto_koji\",\"moromi_koji\",\"moto\",\"soe\",\"naka\",\"tome\",\"yodan\"]},\"cells\":{\"values\":[[\"02/20\",\"02/21\",\"02/22\",\"02/23\",\"02/24\",\"02/25\",\"02/26\",\"02/27\",\"02/28\",\"02/29\",\"03/01\",\"03/02\",\"03/03\",\"03/04\",\"03/05\",\"03/06\",\"03/07\",\"03/08\",\"03/09\",\"03/10\",\"03/11\",\"03/12\",\"03/13\",\"03/14\",\"03/15\",\"03/16\",\"03/17\",\"03/18\",\"03/19\",\"03/20\",\"03/21\",\"03/22\",\"03/23\",\"03/24\",\"03/25\",\"03/26\",\"03/27\",\"03/28\",\"03/29\",\"03/30\",\"03/31\",\"04/01\",\"04/02\",\"04/03\",\"04/04\",\"04/05\",\"04/06\",\"04/07\",\"04/08\",\"04/09\",\"04/10\",\"04/11\",\"04/12\",\"04/13\",\"04/14\",\"04/15\"],[\"仕3: 21\\u003cbr\\u003e仕4: 18\",[],[],[],\"仕1: 140\",\"\",[],\"仕2: 128\\u003cbr\\u003e仕5: 21\\u003cbr\\u003e仕6: 18\",[],[],[],\"\",\"\",\"\",\"\",[],\"\",\"\",\"\",[],\"\",\"\",\"\",\"\",[],\"\",[],\"\",\"\",\"\",\"\",[],[],[],[],[],[],[],[],[],[],[],[],[],[],[],[],[],\"\",[],[],[],[],[],[],\"\"],[\"\",[],[],[],\"\",\"\",[],\"\",[],[],[],\"仕3: 183\",\"\",\"\",\"仕4: 162\",[],\"\",\"\",\"仕5: 183\",[],\"\",\"仕6: 162\",\"\",\"\",[],\"\",[],\"\",\"\",\"\",\"\",[],[],[],[],[],[],[],[],[],[],[],[],[],[],[],[],[],\"\",[],[],[],[],[],[],\"\"],[\"\",[],[],[],\"\",\"仕3: 42\\u003cbr\\u003e仕4: 41\",[],\"\",[],[],[],\"\",\"仕5: 42\\u003cbr\\u003e仕6: 41\",\"\",\"\",[],\"\",\"\",\"\",[],\"\",\"\",\"\",\"\",[],\"\",[],\"\",\"\",\"\",\"\",[],[],[],[],[],[],[],[],[],[],[],[],[],[],[],[],[],\"\",[],[],[],[],[],[],\"\"],[\"\",[],[],[],\"\",\"\",[],\"\",[],[],[],\"仕1: 65\",\"\",\"仕2: 60\",\"\",[],\"\",\"\",\"仕3: 98\",[],\"仕4: 90\",\"\",\"\",\"\",[],\"仕5: 98\",[],\"仕6: 90\",\"\",\"\",\"\",[],[],[],[],[],[],[],[],[],[],[],[],[],[],[],[],[],\"\",[],[],[],[],[],[],\"\"],[\"\",[],[],[],\"\",\"\",[],\"\",[],[],[],\"\",\"\",\"仕1: 150\",\"\",[],\"仕2: 138\",\"\",\"\",[],\"仕3: 190\",\"\",\"仕4: 194\",\"\",[],\"\",[],\"仕5: 190\",\"\",\"仕6: 194\",\"\",[],[],[],[],[],[],[],[],[],[],[],[],[],[],[],[],[],\"\",[],[],[],[],[],[],\"\"],[\"\",[],[],[],\"\",\"\",[],\"\",[],[],[],\"\",\"\",\"\",\"仕1: 245\",[],\"\",\"仕2: 225\",\"\",[],\"\",\"仕3: 366\",\"\",\"仕4: 324\",[],\"\",[],\"\",\"仕5: 366\",\"\",\"仕6: 324\",[],[],[],[],[],[],[],[],[],[],[],[],[],[],[],[],[],\"\",[],[],[],[],[],[],\"\"],[\"\",[],[],[],\"\",\"\",[],\"\",[],[],[],\"\",\"\",\"\",\"\",[],\"\",\"\",\"\",[],\"\",\"\",\"\",\"\",[],\"\",[],\"\",\"\",\"\",\"\",[],[],[],[],[],[],[],[],[],[],[],[],[],[],[],[],[],\"仕4: 72\",[],[],[],[],[],[],\"仕6: 72\"]]}}],\n",
       "  {\"height\":1000},\n",
       "  {\"linkText\":\"Export to plot.ly\",\"showLink\":true}\n",
       ")\n",
       "\n",
       "window.addEventListener('resize', function() {\n",
       "  Plotly.Plots.resize(document.getElementById('df945ff0-f333-4e6f-bb4b-75a4efb26124'))\n",
       "})\n",
       " }) \n",
       "</script>"
      ],
      "text/plain": [
       "#<Plotly::Offline::HTML:0x00007ff1fbc4ae88 @id=\"df945ff0-f333-4e6f-bb4b-75a4efb26124\", @data=[{:type=>:table, :header=>{:values=>[:date, :moto_koji, :moromi_koji, :moto, :soe, :naka, :tome, :yodan]}, :cells=>{:values=>[[\"02/20\", \"02/21\", \"02/22\", \"02/23\", \"02/24\", \"02/25\", \"02/26\", \"02/27\", \"02/28\", \"02/29\", \"03/01\", \"03/02\", \"03/03\", \"03/04\", \"03/05\", \"03/06\", \"03/07\", \"03/08\", \"03/09\", \"03/10\", \"03/11\", \"03/12\", \"03/13\", \"03/14\", \"03/15\", \"03/16\", \"03/17\", \"03/18\", \"03/19\", \"03/20\", \"03/21\", \"03/22\", \"03/23\", \"03/24\", \"03/25\", \"03/26\", \"03/27\", \"03/28\", \"03/29\", \"03/30\", \"03/31\", \"04/01\", \"04/02\", \"04/03\", \"04/04\", \"04/05\", \"04/06\", \"04/07\", \"04/08\", \"04/09\", \"04/10\", \"04/11\", \"04/12\", \"04/13\", \"04/14\", \"04/15\"], [\"仕3: 21<br>仕4: 18\", [], [], [], \"仕1: 140\", \"\", [], \"仕2: 128<br>仕5: 21<br>仕6: 18\", [], [], [], \"\", \"\", \"\", \"\", [], \"\", \"\", \"\", [], \"\", \"\", \"\", \"\", [], \"\", [], \"\", \"\", \"\", \"\", [], [], [], [], [], [], [], [], [], [], [], [], [], [], [], [], [], \"\", [], [], [], [], [], [], \"\"], [\"\", [], [], [], \"\", \"\", [], \"\", [], [], [], \"仕3: 183\", \"\", \"\", \"仕4: 162\", [], \"\", \"\", \"仕5: 183\", [], \"\", \"仕6: 162\", \"\", \"\", [], \"\", [], \"\", \"\", \"\", \"\", [], [], [], [], [], [], [], [], [], [], [], [], [], [], [], [], [], \"\", [], [], [], [], [], [], \"\"], [\"\", [], [], [], \"\", \"仕3: 42<br>仕4: 41\", [], \"\", [], [], [], \"\", \"仕5: 42<br>仕6: 41\", \"\", \"\", [], \"\", \"\", \"\", [], \"\", \"\", \"\", \"\", [], \"\", [], \"\", \"\", \"\", \"\", [], [], [], [], [], [], [], [], [], [], [], [], [], [], [], [], [], \"\", [], [], [], [], [], [], \"\"], [\"\", [], [], [], \"\", \"\", [], \"\", [], [], [], \"仕1: 65\", \"\", \"仕2: 60\", \"\", [], \"\", \"\", \"仕3: 98\", [], \"仕4: 90\", \"\", \"\", \"\", [], \"仕5: 98\", [], \"仕6: 90\", \"\", \"\", \"\", [], [], [], [], [], [], [], [], [], [], [], [], [], [], [], [], [], \"\", [], [], [], [], [], [], \"\"], [\"\", [], [], [], \"\", \"\", [], \"\", [], [], [], \"\", \"\", \"仕1: 150\", \"\", [], \"仕2: 138\", \"\", \"\", [], \"仕3: 190\", \"\", \"仕4: 194\", \"\", [], \"\", [], \"仕5: 190\", \"\", \"仕6: 194\", \"\", [], [], [], [], [], [], [], [], [], [], [], [], [], [], [], [], [], \"\", [], [], [], [], [], [], \"\"], [\"\", [], [], [], \"\", \"\", [], \"\", [], [], [], \"\", \"\", \"\", \"仕1: 245\", [], \"\", \"仕2: 225\", \"\", [], \"\", \"仕3: 366\", \"\", \"仕4: 324\", [], \"\", [], \"\", \"仕5: 366\", \"\", \"仕6: 324\", [], [], [], [], [], [], [], [], [], [], [], [], [], [], [], [], [], \"\", [], [], [], [], [], [], \"\"], [\"\", [], [], [], \"\", \"\", [], \"\", [], [], [], \"\", \"\", \"\", \"\", [], \"\", \"\", \"\", [], \"\", \"\", \"\", \"\", [], \"\", [], \"\", \"\", \"\", \"\", [], [], [], [], [], [], [], [], [], [], [], [], [], [], [], [], [], \"仕4: 72\", [], [], [], [], [], [], \"仕6: 72\"]]}}], @layout={:height=>1000}, @config={:linkText=>\"Export to plot.ly\", :showLink=>true}, @embedded=true>"
      ]
     },
     "metadata": {},
     "output_type": "display_data"
    },
    {
     "data": {
      "text/plain": [
       "#<CZTop::Socket::PUB:0x7ff1fd92cf30 last_endpoint=\"tcp://127.0.0.1:51057\">"
      ]
     },
     "execution_count": 1,
     "metadata": {},
     "output_type": "execute_result"
    }
   ],
   "source": [
    "$LOAD_PATH << File.dirname(__FILE__) + \"/../lib\"\n",
    "require 'toji'\n",
    "require './example_core'\n",
    "require 'rbplotly'\n",
    "\n",
    "cal = Toji::Calendar.new\n",
    ".add(Example::Product.create(\n",
    "  name: \"仕1\",\n",
    "  description: \"姫野国夫による酒母省略仕込\",\n",
    "  recipe: Example::Recipe::TEMPLATES[:simple_sokujo_himeno].scale(600).round(0),\n",
    "  base_date: Time.mktime(2020, 2, 24)\n",
    "))\n",
    ".add(Example::Product.create(\n",
    "  name: \"仕2\",\n",
    "  description: \"姫野国夫による酒母省略仕込\",\n",
    "  recipe: Example::Recipe::TEMPLATES[:simple_sokujo_himeno].scale(550).round(0).tap {|r|\n",
    "    r.steps[0].kake.interval_days = 5\n",
    "    r.steps[2].kake.interval_days = 3\n",
    "  },\n",
    "  base_date: Time.mktime(2020, 2, 27)\n",
    "))\n",
    ".add(Example::Product.create(\n",
    "  name: \"仕3\",\n",
    "  description: \"灘における仕込配合\",\n",
    "  recipe: Example::Recipe::TEMPLATES[:sokujo_nada].scale(900).round(0).tap {|r|\n",
    "    r.steps[1].koji.interval_days = 11\n",
    "    r.steps[1].kake.interval_days = 13\n",
    "  },\n",
    "  base_date: Time.mktime(2020, 2, 20)\n",
    "))\n",
    ".add(Example::Product.create(\n",
    "  name: \"仕4\",\n",
    "  description: \"酒造教本による標準型仕込配合\",\n",
    "  recipe: Example::Recipe::TEMPLATES[:sokujo_textbook].scale(900).round(0),\n",
    "  base_date: Time.mktime(2020, 2, 20)\n",
    "))\n",
    ".add(Example::Product.create(\n",
    "  name: \"仕5\",\n",
    "  description: \"灘における仕込配合\",\n",
    "  recipe: Example::Recipe::TEMPLATES[:sokujo_nada].scale(900).round(0).tap {|r|\n",
    "    r.steps[1].koji.interval_days = 11\n",
    "    r.steps[1].kake.interval_days = 13\n",
    "  },\n",
    "  base_date: Time.mktime(2020, 2, 27)\n",
    "))\n",
    ".add(Example::Product.create(\n",
    "  name: \"仕6\",\n",
    "  description: \"酒造教本による標準型仕込配合\",\n",
    "  recipe: Example::Recipe::TEMPLATES[:sokujo_textbook].scale(900).round(0),\n",
    "  base_date: Time.mktime(2020, 2, 27)\n",
    "))\n",
    "\n",
    "cal.products.each {|product|\n",
    "  puts \"%s %s\" % [product.name, product.description]\n",
    "  \n",
    "  product.recipe.table.tap {|t|\n",
    "    t.layout.height = 350\n",
    "  }.show\n",
    "}\n",
    "\n",
    "cal.table.tap {|t|\n",
    "  t.layout.height = 1000\n",
    "}.show"
   ]
  },
  {
   "cell_type": "code",
   "execution_count": null,
   "metadata": {},
   "outputs": [],
   "source": []
  }
 ],
 "metadata": {
  "kernelspec": {
   "display_name": "Ruby 2.7.1",
   "language": "ruby",
   "name": "ruby"
  },
  "language_info": {
   "file_extension": ".rb",
   "mimetype": "application/x-ruby",
   "name": "ruby",
   "version": "2.6.3"
  }
 },
 "nbformat": 4,
 "nbformat_minor": 2
}
