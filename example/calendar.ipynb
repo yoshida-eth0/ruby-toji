{
 "cells": [
  {
   "cell_type": "code",
   "execution_count": 3,
   "metadata": {
    "scrolled": false
   },
   "outputs": [
    {
     "ename": "LoadError",
     "evalue": "cannot infer basepath",
     "output_type": "error",
     "traceback": [
      "\u001b[31mLoadError\u001b[0m: cannot infer basepath",
      "\u001b[37m<main>:2:in `require_relative'\u001b[0m",
      "\u001b[37m<main>:2:in `<main>'\u001b[0m",
      "\u001b[37m/Users/yoshida/.rvm/gems/ruby-2.6.3/gems/iruby-0.3/lib/iruby/backend.rb:44:in `eval'\u001b[0m",
      "\u001b[37m/Users/yoshida/.rvm/gems/ruby-2.6.3/gems/iruby-0.3/lib/iruby/backend.rb:44:in `eval'\u001b[0m",
      "\u001b[37m/Users/yoshida/.rvm/gems/ruby-2.6.3/gems/iruby-0.3/lib/iruby/backend.rb:12:in `eval'\u001b[0m",
      "\u001b[37m/Users/yoshida/.rvm/gems/ruby-2.6.3/gems/iruby-0.3/lib/iruby/kernel.rb:87:in `execute_request'\u001b[0m",
      "\u001b[37m/Users/yoshida/.rvm/gems/ruby-2.6.3/gems/iruby-0.3/lib/iruby/kernel.rb:47:in `dispatch'\u001b[0m",
      "\u001b[37m/Users/yoshida/.rvm/gems/ruby-2.6.3/gems/iruby-0.3/lib/iruby/kernel.rb:37:in `run'\u001b[0m",
      "\u001b[37m/Users/yoshida/.rvm/gems/ruby-2.6.3/gems/iruby-0.3/lib/iruby/command.rb:70:in `run_kernel'\u001b[0m",
      "\u001b[37m/Users/yoshida/.rvm/gems/ruby-2.6.3/gems/iruby-0.3/lib/iruby/command.rb:34:in `run'\u001b[0m",
      "\u001b[37m/Users/yoshida/.rvm/gems/ruby-2.6.3/gems/iruby-0.3/bin/iruby:5:in `<top (required)>'\u001b[0m",
      "\u001b[37m/Users/yoshida/.rvm/gems/ruby-2.7.1/bin/iruby:23:in `load'\u001b[0m",
      "\u001b[37m/Users/yoshida/.rvm/gems/ruby-2.7.1/bin/iruby:23:in `<main>'\u001b[0m",
      "\u001b[37m/Users/yoshida/.rvm/gems/ruby-2.6.3/bin/ruby_executable_hooks:24:in `eval'\u001b[0m",
      "\u001b[37m/Users/yoshida/.rvm/gems/ruby-2.6.3/bin/ruby_executable_hooks:24:in `<main>'\u001b[0m"
     ]
    }
   ],
   "source": [
    "$LOAD_PATH << File.dirname(__FILE__) + \"/../lib\"\n",
    "require 'toji'\n",
    "require './example_core'\n",
    "require 'rbplotly'\n",
    "\n",
    "cal = Toji::Calendar.new\n",
    ".add(Example::Product.create(\n",
    "  name: \"仕1\",\n",
    "  description: \"姫野国夫による酒母省略仕込\",\n",
    "  recipe: Example::Recipe::TEMPLATES[:simple_sokujo_himeno].scale(600).round(0),\n",
    "  start_date: Time.mktime(2020, 2, 24)\n",
    "))\n",
    ".add(Example::Product.create(\n",
    "  name: \"仕2\",\n",
    "  description: \"姫野国夫による酒母省略仕込\",\n",
    "  recipe: Example::Recipe::TEMPLATES[:simple_sokujo_himeno].scale(550).round(0).tap {|r|\n",
    "    r.steps[0].kake_interval_days = 5\n",
    "    r.steps[2].kake_interval_days = 3\n",
    "  },\n",
    "  start_date: Time.mktime(2020, 2, 27)\n",
    "))\n",
    ".add(Example::Product.create(\n",
    "  name: \"仕3\",\n",
    "  description: \"灘における仕込配合\",\n",
    "  recipe: Example::Recipe::TEMPLATES[:sokujo_nada].scale(900).round(0).tap {|r|\n",
    "    r.steps[1].koji_interval_days = 11\n",
    "    r.steps[1].kake_interval_days = 13\n",
    "  },\n",
    "  start_date: Time.mktime(2020, 2, 20)\n",
    "))\n",
    ".add(Example::Product.create(\n",
    "  name: \"仕4\",\n",
    "  description: \"酒造教本による標準型仕込配合\",\n",
    "  recipe: Example::Recipe::TEMPLATES[:sokujo_textbook].scale(900).round(0),\n",
    "  start_date: Time.mktime(2020, 2, 20)\n",
    "))\n",
    ".add(Example::Product.create(\n",
    "  name: \"仕5\",\n",
    "  description: \"灘における仕込配合\",\n",
    "  recipe: Example::Recipe::TEMPLATES[:sokujo_nada].scale(900).round(0).tap {|r|\n",
    "    r.steps[1].koji_interval_days = 11\n",
    "    r.steps[1].kake_interval_days = 13\n",
    "  },\n",
    "  start_date: Time.mktime(2020, 2, 27)\n",
    "))\n",
    ".add(Example::Product.create(\n",
    "  name: \"仕6\",\n",
    "  description: \"酒造教本による標準型仕込配合\",\n",
    "  recipe: Example::Recipe::TEMPLATES[:sokujo_textbook].scale(900).round(0),\n",
    "  start_date: Time.mktime(2020, 2, 27)\n",
    "))\n",
    "\n",
    "cal.products.each {|product|\n",
    "  puts \"%s %s\" % [product.name, product.description]\n",
    "  \n",
    "  product.recipe.table.tap {|t|\n",
    "    t.layout.height = 350\n",
    "  }.show\n",
    "}\n",
    "\n",
    "cal.table.tap {|t|\n",
    "  t.layout.height = 1000\n",
    "}.show"
   ]
  },
  {
   "cell_type": "code",
   "execution_count": null,
   "metadata": {},
   "outputs": [],
   "source": []
  }
 ],
 "metadata": {
  "kernelspec": {
   "display_name": "Ruby 2.7.1",
   "language": "ruby",
   "name": "ruby"
  },
  "language_info": {
   "file_extension": ".rb",
   "mimetype": "application/x-ruby",
   "name": "ruby",
   "version": "2.6.3"
  }
 },
 "nbformat": 4,
 "nbformat_minor": 2
}
