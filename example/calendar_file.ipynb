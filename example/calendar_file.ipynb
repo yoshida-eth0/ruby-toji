{
 "cells": [
  {
   "cell_type": "code",
   "execution_count": 1,
   "metadata": {
    "scrolled": false
   },
   "outputs": [
    {
     "name": "stdout",
     "output_type": "stream",
     "text": [
      "仕1 姫野国夫による酒母省略仕込\n"
     ]
    },
    {
     "data": {
      "text/html": [
       "\n",
       "  <script>\n",
       "  requirejs.config({paths: { 'plotly': ['https://cdn.plot.ly/plotly-latest.min'] }})\n",
       "  </script>\n",
       "\n",
       "\n",
       "<div id=\"1671c5bc-b0b0-4b32-92e9-612d39553f26\" style=\"height: 100%; width: 100%;\"></div>\n",
       "\n",
       "<script>\n",
       " require(['plotly'], function(Plotly) { \n",
       "Plotly.newPlot(\n",
       "  '1671c5bc-b0b0-4b32-92e9-612d39553f26',\n",
       "  [{\"type\":\"table\",\"header\":{\"values\":[\"\",\"step0\",\"step1\",\"step2\",\"step3\",\"step4\",\"total\"]},\"cells\":{\"values\":[[\"rice_total\",\"kake\",\"koji\",\"alcohol\",\"water\",\"lactic_acid\"],[35.0,\"\",35,\"\",123,0.8],[65.0,65,\"\",\"\",\"\",\"\"],[200.0,150,50,\"\",200,\"\"],[300.0,245,55,\"\",400,\"\"],[\"\",\"\",\"\",\"\",128,\"\"],[600.0,460,140,\"\",851,0.8]]}}],\n",
       "  {\"height\":350},\n",
       "  {\"linkText\":\"Export to plot.ly\",\"showLink\":true}\n",
       ")\n",
       "\n",
       "window.addEventListener('resize', function() {\n",
       "  Plotly.Plots.resize(document.getElementById('1671c5bc-b0b0-4b32-92e9-612d39553f26'))\n",
       "})\n",
       " }) \n",
       "</script>"
      ],
      "text/plain": [
       "#<Plotly::Offline::HTML:0x00007ff4fc8b2e48 @id=\"1671c5bc-b0b0-4b32-92e9-612d39553f26\", @data=[{:type=>:table, :header=>{:values=>[\"\", :step0, :step1, :step2, :step3, :step4, :total]}, :cells=>{:values=>[[:rice_total, :kake, :koji, :alcohol, :water, :lactic_acid], [35.0, \"\", 35, \"\", 123, 0.8], [65.0, 65, \"\", \"\", \"\", \"\"], [200.0, 150, 50, \"\", 200, \"\"], [300.0, 245, 55, \"\", 400, \"\"], [\"\", \"\", \"\", \"\", 128, \"\"], [600.0, 460, 140, \"\", 851, 0.8]]}}], @layout={:height=>350}, @config={:linkText=>\"Export to plot.ly\", :showLink=>true}, @embedded=true>"
      ]
     },
     "metadata": {},
     "output_type": "display_data"
    },
    {
     "name": "stdout",
     "output_type": "stream",
     "text": [
      "仕2 姫野国夫による酒母省略仕込\n"
     ]
    },
    {
     "data": {
      "text/html": [
       "\n",
       "  <script>\n",
       "  requirejs.config({paths: { 'plotly': ['https://cdn.plot.ly/plotly-latest.min'] }})\n",
       "  </script>\n",
       "\n",
       "\n",
       "<div id=\"e272c9f9-469a-4f4d-a5c0-ee61785b5bd6\" style=\"height: 100%; width: 100%;\"></div>\n",
       "\n",
       "<script>\n",
       " require(['plotly'], function(Plotly) { \n",
       "Plotly.newPlot(\n",
       "  'e272c9f9-469a-4f4d-a5c0-ee61785b5bd6',\n",
       "  [{\"type\":\"table\",\"header\":{\"values\":[\"\",\"step0\",\"step1\",\"step2\",\"step3\",\"step4\",\"total\"]},\"cells\":{\"values\":[[\"rice_total\",\"kake\",\"koji\",\"alcohol\",\"water\",\"lactic_acid\"],[32.0,\"\",32,\"\",112,0.733],[60.0,60,\"\",\"\",\"\",\"\"],[184.0,138,46,\"\",183,\"\"],[275.0,225,50,\"\",367,\"\"],[\"\",\"\",\"\",\"\",117,\"\"],[551.0,423,128,\"\",779,0.733]]}}],\n",
       "  {\"height\":350},\n",
       "  {\"linkText\":\"Export to plot.ly\",\"showLink\":true}\n",
       ")\n",
       "\n",
       "window.addEventListener('resize', function() {\n",
       "  Plotly.Plots.resize(document.getElementById('e272c9f9-469a-4f4d-a5c0-ee61785b5bd6'))\n",
       "})\n",
       " }) \n",
       "</script>"
      ],
      "text/plain": [
       "#<Plotly::Offline::HTML:0x00007ff4fa10afd0 @id=\"e272c9f9-469a-4f4d-a5c0-ee61785b5bd6\", @data=[{:type=>:table, :header=>{:values=>[\"\", :step0, :step1, :step2, :step3, :step4, :total]}, :cells=>{:values=>[[:rice_total, :kake, :koji, :alcohol, :water, :lactic_acid], [32.0, \"\", 32, \"\", 112, 0.733], [60.0, 60, \"\", \"\", \"\", \"\"], [184.0, 138, 46, \"\", 183, \"\"], [275.0, 225, 50, \"\", 367, \"\"], [\"\", \"\", \"\", \"\", 117, \"\"], [551.0, 423, 128, \"\", 779, 0.733]]}}], @layout={:height=>350}, @config={:linkText=>\"Export to plot.ly\", :showLink=>true}, @embedded=true>"
      ]
     },
     "metadata": {},
     "output_type": "display_data"
    },
    {
     "name": "stdout",
     "output_type": "stream",
     "text": [
      "仕3 灘における仕込配合\n"
     ]
    },
    {
     "data": {
      "text/html": [
       "\n",
       "  <script>\n",
       "  requirejs.config({paths: { 'plotly': ['https://cdn.plot.ly/plotly-latest.min'] }})\n",
       "  </script>\n",
       "\n",
       "\n",
       "<div id=\"adbcda15-b0da-476e-86a9-ce9cb684fce3\" style=\"height: 100%; width: 100%;\"></div>\n",
       "\n",
       "<script>\n",
       " require(['plotly'], function(Plotly) { \n",
       "Plotly.newPlot(\n",
       "  'adbcda15-b0da-476e-86a9-ce9cb684fce3',\n",
       "  [{\"type\":\"table\",\"header\":{\"values\":[\"\",\"step0\",\"step1\",\"step2\",\"step3\",\"step4\",\"total\"]},\"cells\":{\"values\":[[\"rice_total\",\"kake\",\"koji\",\"alcohol\",\"water\",\"lactic_acid\"],[63.0,42,21,\"\",77,0.524],[143.0,98,45,\"\",122,\"\"],[254.0,190,64,\"\",302,\"\"],[440.0,366,74,\"\",599,\"\"],[\"\",\"\",\"\",405,\"\",\"\"],[900.0,696,204,405,1100,0.524]]}}],\n",
       "  {\"height\":350},\n",
       "  {\"linkText\":\"Export to plot.ly\",\"showLink\":true}\n",
       ")\n",
       "\n",
       "window.addEventListener('resize', function() {\n",
       "  Plotly.Plots.resize(document.getElementById('adbcda15-b0da-476e-86a9-ce9cb684fce3'))\n",
       "})\n",
       " }) \n",
       "</script>"
      ],
      "text/plain": [
       "#<Plotly::Offline::HTML:0x00007ff4f9973150 @id=\"adbcda15-b0da-476e-86a9-ce9cb684fce3\", @data=[{:type=>:table, :header=>{:values=>[\"\", :step0, :step1, :step2, :step3, :step4, :total]}, :cells=>{:values=>[[:rice_total, :kake, :koji, :alcohol, :water, :lactic_acid], [63.0, 42, 21, \"\", 77, 0.524], [143.0, 98, 45, \"\", 122, \"\"], [254.0, 190, 64, \"\", 302, \"\"], [440.0, 366, 74, \"\", 599, \"\"], [\"\", \"\", \"\", 405, \"\", \"\"], [900.0, 696, 204, 405, 1100, 0.524]]}}], @layout={:height=>350}, @config={:linkText=>\"Export to plot.ly\", :showLink=>true}, @embedded=true>"
      ]
     },
     "metadata": {},
     "output_type": "display_data"
    },
    {
     "name": "stdout",
     "output_type": "stream",
     "text": [
      "仕4 酒造教本による標準型仕込配合\n"
     ]
    },
    {
     "data": {
      "text/html": [
       "\n",
       "  <script>\n",
       "  requirejs.config({paths: { 'plotly': ['https://cdn.plot.ly/plotly-latest.min'] }})\n",
       "  </script>\n",
       "\n",
       "\n",
       "<div id=\"c32f0839-926d-4f6b-83fd-100805826e91\" style=\"height: 100%; width: 100%;\"></div>\n",
       "\n",
       "<script>\n",
       " require(['plotly'], function(Plotly) { \n",
       "Plotly.newPlot(\n",
       "  'c32f0839-926d-4f6b-83fd-100805826e91',\n",
       "  [{\"type\":\"table\",\"header\":{\"values\":[\"\",\"step0\",\"step1\",\"step2\",\"step3\",\"step4\",\"total\"]},\"cells\":{\"values\":[[\"rice_total\",\"kake\",\"koji\",\"alcohol\",\"water\",\"lactic_acid\"],[59.0,41,18,\"\",63,0.432],[126.0,90,36,\"\",117,\"\"],[248.0,194,54,\"\",297,\"\"],[396.0,324,72,\"\",567,\"\"],[72.0,72,\"\",\"\",108,\"\"],[901.0,721,180,\"\",1152,0.432]]}}],\n",
       "  {\"height\":350},\n",
       "  {\"linkText\":\"Export to plot.ly\",\"showLink\":true}\n",
       ")\n",
       "\n",
       "window.addEventListener('resize', function() {\n",
       "  Plotly.Plots.resize(document.getElementById('c32f0839-926d-4f6b-83fd-100805826e91'))\n",
       "})\n",
       " }) \n",
       "</script>"
      ],
      "text/plain": [
       "#<Plotly::Offline::HTML:0x00007ff4f89d7228 @id=\"c32f0839-926d-4f6b-83fd-100805826e91\", @data=[{:type=>:table, :header=>{:values=>[\"\", :step0, :step1, :step2, :step3, :step4, :total]}, :cells=>{:values=>[[:rice_total, :kake, :koji, :alcohol, :water, :lactic_acid], [59.0, 41, 18, \"\", 63, 0.432], [126.0, 90, 36, \"\", 117, \"\"], [248.0, 194, 54, \"\", 297, \"\"], [396.0, 324, 72, \"\", 567, \"\"], [72.0, 72, \"\", \"\", 108, \"\"], [901.0, 721, 180, \"\", 1152, 0.432]]}}], @layout={:height=>350}, @config={:linkText=>\"Export to plot.ly\", :showLink=>true}, @embedded=true>"
      ]
     },
     "metadata": {},
     "output_type": "display_data"
    },
    {
     "name": "stdout",
     "output_type": "stream",
     "text": [
      "仕5 灘における仕込配合\n"
     ]
    },
    {
     "data": {
      "text/html": [
       "\n",
       "  <script>\n",
       "  requirejs.config({paths: { 'plotly': ['https://cdn.plot.ly/plotly-latest.min'] }})\n",
       "  </script>\n",
       "\n",
       "\n",
       "<div id=\"c76c574b-eac8-483a-8b96-53c827134d1c\" style=\"height: 100%; width: 100%;\"></div>\n",
       "\n",
       "<script>\n",
       " require(['plotly'], function(Plotly) { \n",
       "Plotly.newPlot(\n",
       "  'c76c574b-eac8-483a-8b96-53c827134d1c',\n",
       "  [{\"type\":\"table\",\"header\":{\"values\":[\"\",\"step0\",\"step1\",\"step2\",\"step3\",\"step4\",\"total\"]},\"cells\":{\"values\":[[\"rice_total\",\"kake\",\"koji\",\"alcohol\",\"water\",\"lactic_acid\"],[63.0,42,21,\"\",77,0.524],[143.0,98,45,\"\",122,\"\"],[254.0,190,64,\"\",302,\"\"],[440.0,366,74,\"\",599,\"\"],[\"\",\"\",\"\",405,\"\",\"\"],[900.0,696,204,405,1100,0.524]]}}],\n",
       "  {\"height\":350},\n",
       "  {\"linkText\":\"Export to plot.ly\",\"showLink\":true}\n",
       ")\n",
       "\n",
       "window.addEventListener('resize', function() {\n",
       "  Plotly.Plots.resize(document.getElementById('c76c574b-eac8-483a-8b96-53c827134d1c'))\n",
       "})\n",
       " }) \n",
       "</script>"
      ],
      "text/plain": [
       "#<Plotly::Offline::HTML:0x00007ff4fe8ea850 @id=\"c76c574b-eac8-483a-8b96-53c827134d1c\", @data=[{:type=>:table, :header=>{:values=>[\"\", :step0, :step1, :step2, :step3, :step4, :total]}, :cells=>{:values=>[[:rice_total, :kake, :koji, :alcohol, :water, :lactic_acid], [63.0, 42, 21, \"\", 77, 0.524], [143.0, 98, 45, \"\", 122, \"\"], [254.0, 190, 64, \"\", 302, \"\"], [440.0, 366, 74, \"\", 599, \"\"], [\"\", \"\", \"\", 405, \"\", \"\"], [900.0, 696, 204, 405, 1100, 0.524]]}}], @layout={:height=>350}, @config={:linkText=>\"Export to plot.ly\", :showLink=>true}, @embedded=true>"
      ]
     },
     "metadata": {},
     "output_type": "display_data"
    },
    {
     "name": "stdout",
     "output_type": "stream",
     "text": [
      "仕6 酒造教本による標準型仕込配合\n"
     ]
    },
    {
     "data": {
      "text/html": [
       "\n",
       "  <script>\n",
       "  requirejs.config({paths: { 'plotly': ['https://cdn.plot.ly/plotly-latest.min'] }})\n",
       "  </script>\n",
       "\n",
       "\n",
       "<div id=\"f1966454-59a1-4cb7-8d03-f30f3bf6bee3\" style=\"height: 100%; width: 100%;\"></div>\n",
       "\n",
       "<script>\n",
       " require(['plotly'], function(Plotly) { \n",
       "Plotly.newPlot(\n",
       "  'f1966454-59a1-4cb7-8d03-f30f3bf6bee3',\n",
       "  [{\"type\":\"table\",\"header\":{\"values\":[\"\",\"step0\",\"step1\",\"step2\",\"step3\",\"step4\",\"total\"]},\"cells\":{\"values\":[[\"rice_total\",\"kake\",\"koji\",\"alcohol\",\"water\",\"lactic_acid\"],[59.0,41,18,\"\",63,0.432],[126.0,90,36,\"\",117,\"\"],[248.0,194,54,\"\",297,\"\"],[396.0,324,72,\"\",567,\"\"],[72.0,72,\"\",\"\",108,\"\"],[901.0,721,180,\"\",1152,0.432]]}}],\n",
       "  {\"height\":350},\n",
       "  {\"linkText\":\"Export to plot.ly\",\"showLink\":true}\n",
       ")\n",
       "\n",
       "window.addEventListener('resize', function() {\n",
       "  Plotly.Plots.resize(document.getElementById('f1966454-59a1-4cb7-8d03-f30f3bf6bee3'))\n",
       "})\n",
       " }) \n",
       "</script>"
      ],
      "text/plain": [
       "#<Plotly::Offline::HTML:0x00007ff4fc951f98 @id=\"f1966454-59a1-4cb7-8d03-f30f3bf6bee3\", @data=[{:type=>:table, :header=>{:values=>[\"\", :step0, :step1, :step2, :step3, :step4, :total]}, :cells=>{:values=>[[:rice_total, :kake, :koji, :alcohol, :water, :lactic_acid], [59.0, 41, 18, \"\", 63, 0.432], [126.0, 90, 36, \"\", 117, \"\"], [248.0, 194, 54, \"\", 297, \"\"], [396.0, 324, 72, \"\", 567, \"\"], [72.0, 72, \"\", \"\", 108, \"\"], [901.0, 721, 180, \"\", 1152, 0.432]]}}], @layout={:height=>350}, @config={:linkText=>\"Export to plot.ly\", :showLink=>true}, @embedded=true>"
      ]
     },
     "metadata": {},
     "output_type": "display_data"
    },
    {
     "data": {
      "text/html": [
       "\n",
       "  <script>\n",
       "  requirejs.config({paths: { 'plotly': ['https://cdn.plot.ly/plotly-latest.min'] }})\n",
       "  </script>\n",
       "\n",
       "\n",
       "<div id=\"3289b7f2-5b57-4905-8b44-7239484da4ad\" style=\"height: 100%; width: 100%;\"></div>\n",
       "\n",
       "<script>\n",
       " require(['plotly'], function(Plotly) { \n",
       "Plotly.newPlot(\n",
       "  '3289b7f2-5b57-4905-8b44-7239484da4ad',\n",
       "  [{\"type\":\"table\",\"header\":{\"values\":[\"date\",\"moto_koji\",\"moromi_koji\",\"moto\",\"soe\",\"naka\",\"tome\",\"yodan\"]},\"cells\":{\"values\":[[\"02/20\",\"02/21\",\"02/22\",\"02/23\",\"02/24\",\"02/25\",\"02/26\",\"02/27\",\"02/28\",\"02/29\",\"03/01\",\"03/02\",\"03/03\",\"03/04\",\"03/05\",\"03/06\",\"03/07\",\"03/08\",\"03/09\",\"03/10\",\"03/11\",\"03/12\",\"03/13\",\"03/14\",\"03/15\",\"03/16\",\"03/17\",\"03/18\",\"03/19\",\"03/20\",\"03/21\",\"03/22\",\"03/23\",\"03/24\",\"03/25\",\"03/26\",\"03/27\",\"03/28\",\"03/29\",\"03/30\",\"03/31\",\"04/01\",\"04/02\",\"04/03\",\"04/04\",\"04/05\",\"04/06\",\"04/07\",\"04/08\",\"04/09\",\"04/10\",\"04/11\",\"04/12\",\"04/13\",\"04/14\",\"04/15\"],[\"仕3: 21\\u003cbr\\u003e仕4: 18\",[],[],[],\"仕1: 140\",\"\",[],\"仕2: 128\\u003cbr\\u003e仕5: 21\\u003cbr\\u003e仕6: 18\",[],[],[],\"\",\"\",\"\",\"\",[],\"\",\"\",[],[],\"\",\"\",\"\",\"\",[],[],[],\"\",[],\"\",\"\",[],[],[],[],[],[],[],[],[],[],[],[],[],[],[],[],[],\"\",[],[],[],[],[],[],\"\"],[\"\",[],[],[],\"\",\"\",[],\"\",[],[],[],\"\",\"\",\"\",\"仕3: 183\\u003cbr\\u003e仕4: 162\",[],\"\",\"\",[],[],\"\",\"仕5: 183\\u003cbr\\u003e仕6: 162\",\"\",\"\",[],[],[],\"\",[],\"\",\"\",[],[],[],[],[],[],[],[],[],[],[],[],[],[],[],[],[],\"\",[],[],[],[],[],[],\"\"],[\"\",[],[],[],\"\",\"仕3: 42\\u003cbr\\u003e仕4: 41\",[],\"\",[],[],[],\"\",\"仕5: 42\\u003cbr\\u003e仕6: 41\",\"\",\"\",[],\"\",\"\",[],[],\"\",\"\",\"\",\"\",[],[],[],\"\",[],\"\",\"\",[],[],[],[],[],[],[],[],[],[],[],[],[],[],[],[],[],\"\",[],[],[],[],[],[],\"\"],[\"\",[],[],[],\"\",\"\",[],\"\",[],[],[],\"仕1: 65\",\"\",\"\",\"仕2: 60\",[],\"\",\"\",[],[],\"仕3: 98\\u003cbr\\u003e仕4: 90\",\"\",\"\",\"\",[],[],[],\"仕5: 98\\u003cbr\\u003e仕6: 90\",[],\"\",\"\",[],[],[],[],[],[],[],[],[],[],[],[],[],[],[],[],[],\"\",[],[],[],[],[],[],\"\"],[\"\",[],[],[],\"\",\"\",[],\"\",[],[],[],\"\",\"\",\"仕1: 150\",\"\",[],\"仕2: 138\",\"\",[],[],\"\",\"\",\"仕3: 190\\u003cbr\\u003e仕4: 194\",\"\",[],[],[],\"\",[],\"仕5: 190\\u003cbr\\u003e仕6: 194\",\"\",[],[],[],[],[],[],[],[],[],[],[],[],[],[],[],[],[],\"\",[],[],[],[],[],[],\"\"],[\"\",[],[],[],\"\",\"\",[],\"\",[],[],[],\"\",\"\",\"\",\"仕1: 245\",[],\"\",\"仕2: 225\",[],[],\"\",\"\",\"\",\"仕3: 366\\u003cbr\\u003e仕4: 324\",[],[],[],\"\",[],\"\",\"仕5: 366\\u003cbr\\u003e仕6: 324\",[],[],[],[],[],[],[],[],[],[],[],[],[],[],[],[],[],\"\",[],[],[],[],[],[],\"\"],[\"\",[],[],[],\"\",\"\",[],\"\",[],[],[],\"\",\"\",\"\",\"\",[],\"\",\"\",[],[],\"\",\"\",\"\",\"\",[],[],[],\"\",[],\"\",\"\",[],[],[],[],[],[],[],[],[],[],[],[],[],[],[],[],[],\"仕4: 72\",[],[],[],[],[],[],\"仕6: 72\"]]}}],\n",
       "  {\"height\":1000},\n",
       "  {\"linkText\":\"Export to plot.ly\",\"showLink\":true}\n",
       ")\n",
       "\n",
       "window.addEventListener('resize', function() {\n",
       "  Plotly.Plots.resize(document.getElementById('3289b7f2-5b57-4905-8b44-7239484da4ad'))\n",
       "})\n",
       " }) \n",
       "</script>"
      ],
      "text/plain": [
       "#<Plotly::Offline::HTML:0x00007ff4fc9a02d8 @id=\"3289b7f2-5b57-4905-8b44-7239484da4ad\", @data=[{:type=>:table, :header=>{:values=>[:date, :moto_koji, :moromi_koji, :moto, :soe, :naka, :tome, :yodan]}, :cells=>{:values=>[[\"02/20\", \"02/21\", \"02/22\", \"02/23\", \"02/24\", \"02/25\", \"02/26\", \"02/27\", \"02/28\", \"02/29\", \"03/01\", \"03/02\", \"03/03\", \"03/04\", \"03/05\", \"03/06\", \"03/07\", \"03/08\", \"03/09\", \"03/10\", \"03/11\", \"03/12\", \"03/13\", \"03/14\", \"03/15\", \"03/16\", \"03/17\", \"03/18\", \"03/19\", \"03/20\", \"03/21\", \"03/22\", \"03/23\", \"03/24\", \"03/25\", \"03/26\", \"03/27\", \"03/28\", \"03/29\", \"03/30\", \"03/31\", \"04/01\", \"04/02\", \"04/03\", \"04/04\", \"04/05\", \"04/06\", \"04/07\", \"04/08\", \"04/09\", \"04/10\", \"04/11\", \"04/12\", \"04/13\", \"04/14\", \"04/15\"], [\"仕3: 21<br>仕4: 18\", [], [], [], \"仕1: 140\", \"\", [], \"仕2: 128<br>仕5: 21<br>仕6: 18\", [], [], [], \"\", \"\", \"\", \"\", [], \"\", \"\", [], [], \"\", \"\", \"\", \"\", [], [], [], \"\", [], \"\", \"\", [], [], [], [], [], [], [], [], [], [], [], [], [], [], [], [], [], \"\", [], [], [], [], [], [], \"\"], [\"\", [], [], [], \"\", \"\", [], \"\", [], [], [], \"\", \"\", \"\", \"仕3: 183<br>仕4: 162\", [], \"\", \"\", [], [], \"\", \"仕5: 183<br>仕6: 162\", \"\", \"\", [], [], [], \"\", [], \"\", \"\", [], [], [], [], [], [], [], [], [], [], [], [], [], [], [], [], [], \"\", [], [], [], [], [], [], \"\"], [\"\", [], [], [], \"\", \"仕3: 42<br>仕4: 41\", [], \"\", [], [], [], \"\", \"仕5: 42<br>仕6: 41\", \"\", \"\", [], \"\", \"\", [], [], \"\", \"\", \"\", \"\", [], [], [], \"\", [], \"\", \"\", [], [], [], [], [], [], [], [], [], [], [], [], [], [], [], [], [], \"\", [], [], [], [], [], [], \"\"], [\"\", [], [], [], \"\", \"\", [], \"\", [], [], [], \"仕1: 65\", \"\", \"\", \"仕2: 60\", [], \"\", \"\", [], [], \"仕3: 98<br>仕4: 90\", \"\", \"\", \"\", [], [], [], \"仕5: 98<br>仕6: 90\", [], \"\", \"\", [], [], [], [], [], [], [], [], [], [], [], [], [], [], [], [], [], \"\", [], [], [], [], [], [], \"\"], [\"\", [], [], [], \"\", \"\", [], \"\", [], [], [], \"\", \"\", \"仕1: 150\", \"\", [], \"仕2: 138\", \"\", [], [], \"\", \"\", \"仕3: 190<br>仕4: 194\", \"\", [], [], [], \"\", [], \"仕5: 190<br>仕6: 194\", \"\", [], [], [], [], [], [], [], [], [], [], [], [], [], [], [], [], [], \"\", [], [], [], [], [], [], \"\"], [\"\", [], [], [], \"\", \"\", [], \"\", [], [], [], \"\", \"\", \"\", \"仕1: 245\", [], \"\", \"仕2: 225\", [], [], \"\", \"\", \"\", \"仕3: 366<br>仕4: 324\", [], [], [], \"\", [], \"\", \"仕5: 366<br>仕6: 324\", [], [], [], [], [], [], [], [], [], [], [], [], [], [], [], [], [], \"\", [], [], [], [], [], [], \"\"], [\"\", [], [], [], \"\", \"\", [], \"\", [], [], [], \"\", \"\", \"\", \"\", [], \"\", \"\", [], [], \"\", \"\", \"\", \"\", [], [], [], \"\", [], \"\", \"\", [], [], [], [], [], [], [], [], [], [], [], [], [], [], [], [], [], \"仕4: 72\", [], [], [], [], [], [], \"仕6: 72\"]]}}], @layout={:height=>1000}, @config={:linkText=>\"Export to plot.ly\", :showLink=>true}, @embedded=true>"
      ]
     },
     "metadata": {},
     "output_type": "display_data"
    },
    {
     "data": {
      "text/plain": [
       "#<CZTop::Socket::PUB:0x7ff4ff366d10 last_endpoint=\"tcp://127.0.0.1:58839\">"
      ]
     },
     "execution_count": 1,
     "metadata": {},
     "output_type": "execute_result"
    }
   ],
   "source": [
    "$LOAD_PATH << File.dirname(__FILE__) + \"/../lib\"\n",
    "require 'toji'\n",
    "require './example_core'\n",
    "require 'rbplotly'\n",
    "\n",
    "cal = Example::Calendar.load_yaml_file(\"calendar.yaml\")\n",
    "\n",
    "cal.products.each {|product|\n",
    "  puts \"%s %s\" % [product.name, product.description]\n",
    "  \n",
    "  product.recipe.table.tap {|t|\n",
    "    t.layout.height = 350\n",
    "  }.show\n",
    "}\n",
    "\n",
    "cal.table.tap {|t|\n",
    "  t.layout.height = 1000\n",
    "}.show"
   ]
  },
  {
   "cell_type": "code",
   "execution_count": null,
   "metadata": {},
   "outputs": [],
   "source": []
  }
 ],
 "metadata": {
  "kernelspec": {
   "display_name": "Ruby 2.7.1",
   "language": "ruby",
   "name": "ruby"
  },
  "language_info": {
   "file_extension": ".rb",
   "mimetype": "application/x-ruby",
   "name": "ruby",
   "version": "2.6.3"
  }
 },
 "nbformat": 4,
 "nbformat_minor": 2
}
