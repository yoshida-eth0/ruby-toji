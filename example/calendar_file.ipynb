{
 "cells": [
  {
   "cell_type": "code",
   "execution_count": 1,
   "metadata": {
    "scrolled": false
   },
   "outputs": [
    {
     "name": "stdout",
     "output_type": "stream",
     "text": [
      "仕1 姫野国夫による酒母省略仕込\n"
     ]
    },
    {
     "data": {
      "text/html": [
       "\n",
       "  <script>\n",
       "  requirejs.config({paths: { 'plotly': ['https://cdn.plot.ly/plotly-latest.min'] }})\n",
       "  </script>\n",
       "\n",
       "\n",
       "<div id=\"fe40482e-431d-4357-82f0-6c3d470dc5a6\" style=\"height: 100%; width: 100%;\"></div>\n",
       "\n",
       "<script>\n",
       " require(['plotly'], function(Plotly) { \n",
       "Plotly.newPlot(\n",
       "  'fe40482e-431d-4357-82f0-6c3d470dc5a6',\n",
       "  [{\"type\":\"table\",\"header\":{\"values\":[\"\",\"Step0\",\"Step1\",\"Step2\",\"Step3\",\"Step4\",\"total\"]},\"cells\":{\"values\":[[\"RiceTotal\",\"Kake\",\"Koji\",\"Alcohol\",\"Water\",\"LacticAcid\"],[35.0,\"\",35,\"\",123,0.8],[65.0,65,\"\",\"\",\"\",\"\"],[200.0,150,50,\"\",200,\"\"],[300.0,245,55,\"\",400,\"\"],[\"\",\"\",\"\",\"\",128,\"\"],[600.0,460,140,\"\",851,0.8]]}}],\n",
       "  {\"height\":350},\n",
       "  {\"linkText\":\"Export to plot.ly\",\"showLink\":true}\n",
       ")\n",
       "\n",
       "window.addEventListener('resize', function() {\n",
       "  Plotly.Plots.resize(document.getElementById('fe40482e-431d-4357-82f0-6c3d470dc5a6'))\n",
       "})\n",
       " }) \n",
       "</script>"
      ],
      "text/plain": [
       "#<Plotly::Offline::HTML:0x00007fd82e21d870 @id=\"fe40482e-431d-4357-82f0-6c3d470dc5a6\", @data=[{:type=>:table, :header=>{:values=>[\"\", :Step0, :Step1, :Step2, :Step3, :Step4, :total]}, :cells=>{:values=>[[\"RiceTotal\", \"Kake\", \"Koji\", \"Alcohol\", \"Water\", \"LacticAcid\"], [35.0, \"\", 35, \"\", 123, 0.8], [65.0, 65, \"\", \"\", \"\", \"\"], [200.0, 150, 50, \"\", 200, \"\"], [300.0, 245, 55, \"\", 400, \"\"], [\"\", \"\", \"\", \"\", 128, \"\"], [600.0, 460, 140, \"\", 851, 0.8]]}}], @layout={:height=>350}, @config={:linkText=>\"Export to plot.ly\", :showLink=>true}, @embedded=true>"
      ]
     },
     "metadata": {},
     "output_type": "display_data"
    },
    {
     "name": "stdout",
     "output_type": "stream",
     "text": [
      "仕2 姫野国夫による酒母省略仕込\n"
     ]
    },
    {
     "data": {
      "text/html": [
       "\n",
       "  <script>\n",
       "  requirejs.config({paths: { 'plotly': ['https://cdn.plot.ly/plotly-latest.min'] }})\n",
       "  </script>\n",
       "\n",
       "\n",
       "<div id=\"8d63c434-bcc5-4b95-8e3c-223489e8936b\" style=\"height: 100%; width: 100%;\"></div>\n",
       "\n",
       "<script>\n",
       " require(['plotly'], function(Plotly) { \n",
       "Plotly.newPlot(\n",
       "  '8d63c434-bcc5-4b95-8e3c-223489e8936b',\n",
       "  [{\"type\":\"table\",\"header\":{\"values\":[\"\",\"Step0\",\"Step1\",\"Step2\",\"Step3\",\"Step4\",\"total\"]},\"cells\":{\"values\":[[\"RiceTotal\",\"Kake\",\"Koji\",\"Alcohol\",\"Water\",\"LacticAcid\"],[32.0,\"\",32,\"\",112,0.733],[60.0,60,\"\",\"\",\"\",\"\"],[184.0,138,46,\"\",183,\"\"],[275.0,225,50,\"\",367,\"\"],[\"\",\"\",\"\",\"\",117,\"\"],[551.0,423,128,\"\",779,0.733]]}}],\n",
       "  {\"height\":350},\n",
       "  {\"linkText\":\"Export to plot.ly\",\"showLink\":true}\n",
       ")\n",
       "\n",
       "window.addEventListener('resize', function() {\n",
       "  Plotly.Plots.resize(document.getElementById('8d63c434-bcc5-4b95-8e3c-223489e8936b'))\n",
       "})\n",
       " }) \n",
       "</script>"
      ],
      "text/plain": [
       "#<Plotly::Offline::HTML:0x00007fd82e2c4558 @id=\"8d63c434-bcc5-4b95-8e3c-223489e8936b\", @data=[{:type=>:table, :header=>{:values=>[\"\", :Step0, :Step1, :Step2, :Step3, :Step4, :total]}, :cells=>{:values=>[[\"RiceTotal\", \"Kake\", \"Koji\", \"Alcohol\", \"Water\", \"LacticAcid\"], [32.0, \"\", 32, \"\", 112, 0.733], [60.0, 60, \"\", \"\", \"\", \"\"], [184.0, 138, 46, \"\", 183, \"\"], [275.0, 225, 50, \"\", 367, \"\"], [\"\", \"\", \"\", \"\", 117, \"\"], [551.0, 423, 128, \"\", 779, 0.733]]}}], @layout={:height=>350}, @config={:linkText=>\"Export to plot.ly\", :showLink=>true}, @embedded=true>"
      ]
     },
     "metadata": {},
     "output_type": "display_data"
    },
    {
     "name": "stdout",
     "output_type": "stream",
     "text": [
      "仕3 灘における仕込配合\n"
     ]
    },
    {
     "data": {
      "text/html": [
       "\n",
       "  <script>\n",
       "  requirejs.config({paths: { 'plotly': ['https://cdn.plot.ly/plotly-latest.min'] }})\n",
       "  </script>\n",
       "\n",
       "\n",
       "<div id=\"7a0b9341-d119-431c-8937-bd5498ac9736\" style=\"height: 100%; width: 100%;\"></div>\n",
       "\n",
       "<script>\n",
       " require(['plotly'], function(Plotly) { \n",
       "Plotly.newPlot(\n",
       "  '7a0b9341-d119-431c-8937-bd5498ac9736',\n",
       "  [{\"type\":\"table\",\"header\":{\"values\":[\"\",\"Step0\",\"Step1\",\"Step2\",\"Step3\",\"Step4\",\"total\"]},\"cells\":{\"values\":[[\"RiceTotal\",\"Kake\",\"Koji\",\"Alcohol\",\"Water\",\"LacticAcid\"],[63.0,42,21,\"\",77,0.524],[143.0,98,45,\"\",122,\"\"],[254.0,190,64,\"\",302,\"\"],[440.0,366,74,\"\",599,\"\"],[\"\",\"\",\"\",405,\"\",\"\"],[900.0,696,204,405,1100,0.524]]}}],\n",
       "  {\"height\":350},\n",
       "  {\"linkText\":\"Export to plot.ly\",\"showLink\":true}\n",
       ")\n",
       "\n",
       "window.addEventListener('resize', function() {\n",
       "  Plotly.Plots.resize(document.getElementById('7a0b9341-d119-431c-8937-bd5498ac9736'))\n",
       "})\n",
       " }) \n",
       "</script>"
      ],
      "text/plain": [
       "#<Plotly::Offline::HTML:0x00007fd82e35afa8 @id=\"7a0b9341-d119-431c-8937-bd5498ac9736\", @data=[{:type=>:table, :header=>{:values=>[\"\", :Step0, :Step1, :Step2, :Step3, :Step4, :total]}, :cells=>{:values=>[[\"RiceTotal\", \"Kake\", \"Koji\", \"Alcohol\", \"Water\", \"LacticAcid\"], [63.0, 42, 21, \"\", 77, 0.524], [143.0, 98, 45, \"\", 122, \"\"], [254.0, 190, 64, \"\", 302, \"\"], [440.0, 366, 74, \"\", 599, \"\"], [\"\", \"\", \"\", 405, \"\", \"\"], [900.0, 696, 204, 405, 1100, 0.524]]}}], @layout={:height=>350}, @config={:linkText=>\"Export to plot.ly\", :showLink=>true}, @embedded=true>"
      ]
     },
     "metadata": {},
     "output_type": "display_data"
    },
    {
     "name": "stdout",
     "output_type": "stream",
     "text": [
      "仕4 酒造教本による標準型仕込配合\n"
     ]
    },
    {
     "data": {
      "text/html": [
       "\n",
       "  <script>\n",
       "  requirejs.config({paths: { 'plotly': ['https://cdn.plot.ly/plotly-latest.min'] }})\n",
       "  </script>\n",
       "\n",
       "\n",
       "<div id=\"2baf692e-79d8-4469-a08d-3eaf9e05a1fd\" style=\"height: 100%; width: 100%;\"></div>\n",
       "\n",
       "<script>\n",
       " require(['plotly'], function(Plotly) { \n",
       "Plotly.newPlot(\n",
       "  '2baf692e-79d8-4469-a08d-3eaf9e05a1fd',\n",
       "  [{\"type\":\"table\",\"header\":{\"values\":[\"\",\"Step0\",\"Step1\",\"Step2\",\"Step3\",\"Step4\",\"total\"]},\"cells\":{\"values\":[[\"RiceTotal\",\"Kake\",\"Koji\",\"Alcohol\",\"Water\",\"LacticAcid\"],[59.0,41,18,\"\",63,0.432],[126.0,90,36,\"\",117,\"\"],[248.0,194,54,\"\",297,\"\"],[396.0,324,72,\"\",567,\"\"],[72.0,72,\"\",\"\",108,\"\"],[901.0,721,180,\"\",1152,0.432]]}}],\n",
       "  {\"height\":350},\n",
       "  {\"linkText\":\"Export to plot.ly\",\"showLink\":true}\n",
       ")\n",
       "\n",
       "window.addEventListener('resize', function() {\n",
       "  Plotly.Plots.resize(document.getElementById('2baf692e-79d8-4469-a08d-3eaf9e05a1fd'))\n",
       "})\n",
       " }) \n",
       "</script>"
      ],
      "text/plain": [
       "#<Plotly::Offline::HTML:0x00007fd82e9e04e0 @id=\"2baf692e-79d8-4469-a08d-3eaf9e05a1fd\", @data=[{:type=>:table, :header=>{:values=>[\"\", :Step0, :Step1, :Step2, :Step3, :Step4, :total]}, :cells=>{:values=>[[\"RiceTotal\", \"Kake\", \"Koji\", \"Alcohol\", \"Water\", \"LacticAcid\"], [59.0, 41, 18, \"\", 63, 0.432], [126.0, 90, 36, \"\", 117, \"\"], [248.0, 194, 54, \"\", 297, \"\"], [396.0, 324, 72, \"\", 567, \"\"], [72.0, 72, \"\", \"\", 108, \"\"], [901.0, 721, 180, \"\", 1152, 0.432]]}}], @layout={:height=>350}, @config={:linkText=>\"Export to plot.ly\", :showLink=>true}, @embedded=true>"
      ]
     },
     "metadata": {},
     "output_type": "display_data"
    },
    {
     "name": "stdout",
     "output_type": "stream",
     "text": [
      "仕5 灘における仕込配合\n"
     ]
    },
    {
     "data": {
      "text/html": [
       "\n",
       "  <script>\n",
       "  requirejs.config({paths: { 'plotly': ['https://cdn.plot.ly/plotly-latest.min'] }})\n",
       "  </script>\n",
       "\n",
       "\n",
       "<div id=\"f9787d53-bd0b-4453-9150-54a5643100a6\" style=\"height: 100%; width: 100%;\"></div>\n",
       "\n",
       "<script>\n",
       " require(['plotly'], function(Plotly) { \n",
       "Plotly.newPlot(\n",
       "  'f9787d53-bd0b-4453-9150-54a5643100a6',\n",
       "  [{\"type\":\"table\",\"header\":{\"values\":[\"\",\"Step0\",\"Step1\",\"Step2\",\"Step3\",\"Step4\",\"total\"]},\"cells\":{\"values\":[[\"RiceTotal\",\"Kake\",\"Koji\",\"Alcohol\",\"Water\",\"LacticAcid\"],[63.0,42,21,\"\",77,0.524],[143.0,98,45,\"\",122,\"\"],[254.0,190,64,\"\",302,\"\"],[440.0,366,74,\"\",599,\"\"],[\"\",\"\",\"\",405,\"\",\"\"],[900.0,696,204,405,1100,0.524]]}}],\n",
       "  {\"height\":350},\n",
       "  {\"linkText\":\"Export to plot.ly\",\"showLink\":true}\n",
       ")\n",
       "\n",
       "window.addEventListener('resize', function() {\n",
       "  Plotly.Plots.resize(document.getElementById('f9787d53-bd0b-4453-9150-54a5643100a6'))\n",
       "})\n",
       " }) \n",
       "</script>"
      ],
      "text/plain": [
       "#<Plotly::Offline::HTML:0x00007fd82ea11450 @id=\"f9787d53-bd0b-4453-9150-54a5643100a6\", @data=[{:type=>:table, :header=>{:values=>[\"\", :Step0, :Step1, :Step2, :Step3, :Step4, :total]}, :cells=>{:values=>[[\"RiceTotal\", \"Kake\", \"Koji\", \"Alcohol\", \"Water\", \"LacticAcid\"], [63.0, 42, 21, \"\", 77, 0.524], [143.0, 98, 45, \"\", 122, \"\"], [254.0, 190, 64, \"\", 302, \"\"], [440.0, 366, 74, \"\", 599, \"\"], [\"\", \"\", \"\", 405, \"\", \"\"], [900.0, 696, 204, 405, 1100, 0.524]]}}], @layout={:height=>350}, @config={:linkText=>\"Export to plot.ly\", :showLink=>true}, @embedded=true>"
      ]
     },
     "metadata": {},
     "output_type": "display_data"
    },
    {
     "name": "stdout",
     "output_type": "stream",
     "text": [
      "仕6 酒造教本による標準型仕込配合\n"
     ]
    },
    {
     "data": {
      "text/html": [
       "\n",
       "  <script>\n",
       "  requirejs.config({paths: { 'plotly': ['https://cdn.plot.ly/plotly-latest.min'] }})\n",
       "  </script>\n",
       "\n",
       "\n",
       "<div id=\"6c419d0f-5cdd-4034-a1f5-289fc67c1879\" style=\"height: 100%; width: 100%;\"></div>\n",
       "\n",
       "<script>\n",
       " require(['plotly'], function(Plotly) { \n",
       "Plotly.newPlot(\n",
       "  '6c419d0f-5cdd-4034-a1f5-289fc67c1879',\n",
       "  [{\"type\":\"table\",\"header\":{\"values\":[\"\",\"Step0\",\"Step1\",\"Step2\",\"Step3\",\"Step4\",\"total\"]},\"cells\":{\"values\":[[\"RiceTotal\",\"Kake\",\"Koji\",\"Alcohol\",\"Water\",\"LacticAcid\"],[59.0,41,18,\"\",63,0.432],[126.0,90,36,\"\",117,\"\"],[248.0,194,54,\"\",297,\"\"],[396.0,324,72,\"\",567,\"\"],[72.0,72,\"\",\"\",108,\"\"],[901.0,721,180,\"\",1152,0.432]]}}],\n",
       "  {\"height\":350},\n",
       "  {\"linkText\":\"Export to plot.ly\",\"showLink\":true}\n",
       ")\n",
       "\n",
       "window.addEventListener('resize', function() {\n",
       "  Plotly.Plots.resize(document.getElementById('6c419d0f-5cdd-4034-a1f5-289fc67c1879'))\n",
       "})\n",
       " }) \n",
       "</script>"
      ],
      "text/plain": [
       "#<Plotly::Offline::HTML:0x00007fd82ea412e0 @id=\"6c419d0f-5cdd-4034-a1f5-289fc67c1879\", @data=[{:type=>:table, :header=>{:values=>[\"\", :Step0, :Step1, :Step2, :Step3, :Step4, :total]}, :cells=>{:values=>[[\"RiceTotal\", \"Kake\", \"Koji\", \"Alcohol\", \"Water\", \"LacticAcid\"], [59.0, 41, 18, \"\", 63, 0.432], [126.0, 90, 36, \"\", 117, \"\"], [248.0, 194, 54, \"\", 297, \"\"], [396.0, 324, 72, \"\", 567, \"\"], [72.0, 72, \"\", \"\", 108, \"\"], [901.0, 721, 180, \"\", 1152, 0.432]]}}], @layout={:height=>350}, @config={:linkText=>\"Export to plot.ly\", :showLink=>true}, @embedded=true>"
      ]
     },
     "metadata": {},
     "output_type": "display_data"
    },
    {
     "data": {
      "text/html": [
       "\n",
       "  <script>\n",
       "  requirejs.config({paths: { 'plotly': ['https://cdn.plot.ly/plotly-latest.min'] }})\n",
       "  </script>\n",
       "\n",
       "\n",
       "<div id=\"75199038-f6e7-49ee-b63a-83bac1f800b0\" style=\"height: 100%; width: 100%;\"></div>\n",
       "\n",
       "<script>\n",
       " require(['plotly'], function(Plotly) { \n",
       "Plotly.newPlot(\n",
       "  '75199038-f6e7-49ee-b63a-83bac1f800b0',\n",
       "  [{\"type\":\"table\",\"header\":{\"values\":[\"date\",\"moto_koji\",\"moromi_koji\",\"moto\",\"soe\",\"naka\",\"tome\",\"yodan\"]},\"cells\":{\"values\":[[\"02/20\",\"02/21\",\"02/22\",\"02/23\",\"02/24\",\"02/25\",\"02/26\",\"02/27\",\"02/28\",\"02/29\",\"03/01\",\"03/02\",\"03/03\",\"03/04\",\"03/05\",\"03/06\",\"03/07\",\"03/08\",\"03/09\",\"03/10\",\"03/11\",\"03/12\",\"03/13\",\"03/14\",\"03/15\",\"03/16\",\"03/17\",\"03/18\",\"03/19\",\"03/20\",\"03/21\",\"03/22\",\"03/23\",\"03/24\",\"03/25\",\"03/26\",\"03/27\",\"03/28\",\"03/29\",\"03/30\",\"03/31\",\"04/01\",\"04/02\",\"04/03\",\"04/04\",\"04/05\",\"04/06\",\"04/07\",\"04/08\",\"04/09\",\"04/10\",\"04/11\",\"04/12\",\"04/13\",\"04/14\",\"04/15\"],[\"仕3: 21\\u003cbr\\u003e仕4: 18\",[],[],[],\"仕1: 140\",\"\",[],\"仕2: 128\\u003cbr\\u003e仕5: 21\\u003cbr\\u003e仕6: 18\",[],[],[],\"\",\"\",\"\",\"\",[],\"\",\"\",[],[],\"\",\"\",\"\",\"\",[],[],[],\"\",[],\"\",\"\",[],[],[],[],[],[],[],[],[],[],[],[],[],[],[],[],[],\"\",[],[],[],[],[],[],\"\"],[\"\",[],[],[],\"\",\"\",[],\"\",[],[],[],\"\",\"\",\"\",\"仕3: 183\\u003cbr\\u003e仕4: 162\",[],\"\",\"\",[],[],\"\",\"仕5: 183\\u003cbr\\u003e仕6: 162\",\"\",\"\",[],[],[],\"\",[],\"\",\"\",[],[],[],[],[],[],[],[],[],[],[],[],[],[],[],[],[],\"\",[],[],[],[],[],[],\"\"],[\"\",[],[],[],\"\",\"仕3: 42\\u003cbr\\u003e仕4: 41\",[],\"\",[],[],[],\"\",\"仕5: 42\\u003cbr\\u003e仕6: 41\",\"\",\"\",[],\"\",\"\",[],[],\"\",\"\",\"\",\"\",[],[],[],\"\",[],\"\",\"\",[],[],[],[],[],[],[],[],[],[],[],[],[],[],[],[],[],\"\",[],[],[],[],[],[],\"\"],[\"\",[],[],[],\"\",\"\",[],\"\",[],[],[],\"仕1: 65\",\"\",\"\",\"仕2: 60\",[],\"\",\"\",[],[],\"仕3: 98\\u003cbr\\u003e仕4: 90\",\"\",\"\",\"\",[],[],[],\"仕5: 98\\u003cbr\\u003e仕6: 90\",[],\"\",\"\",[],[],[],[],[],[],[],[],[],[],[],[],[],[],[],[],[],\"\",[],[],[],[],[],[],\"\"],[\"\",[],[],[],\"\",\"\",[],\"\",[],[],[],\"\",\"\",\"仕1: 150\",\"\",[],\"仕2: 138\",\"\",[],[],\"\",\"\",\"仕3: 190\\u003cbr\\u003e仕4: 194\",\"\",[],[],[],\"\",[],\"仕5: 190\\u003cbr\\u003e仕6: 194\",\"\",[],[],[],[],[],[],[],[],[],[],[],[],[],[],[],[],[],\"\",[],[],[],[],[],[],\"\"],[\"\",[],[],[],\"\",\"\",[],\"\",[],[],[],\"\",\"\",\"\",\"仕1: 245\",[],\"\",\"仕2: 225\",[],[],\"\",\"\",\"\",\"仕3: 366\\u003cbr\\u003e仕4: 324\",[],[],[],\"\",[],\"\",\"仕5: 366\\u003cbr\\u003e仕6: 324\",[],[],[],[],[],[],[],[],[],[],[],[],[],[],[],[],[],\"\",[],[],[],[],[],[],\"\"],[\"\",[],[],[],\"\",\"\",[],\"\",[],[],[],\"\",\"\",\"\",\"\",[],\"\",\"\",[],[],\"\",\"\",\"\",\"\",[],[],[],\"\",[],\"\",\"\",[],[],[],[],[],[],[],[],[],[],[],[],[],[],[],[],[],\"仕4: 72\",[],[],[],[],[],[],\"仕6: 72\"]]}}],\n",
       "  {\"height\":1000},\n",
       "  {\"linkText\":\"Export to plot.ly\",\"showLink\":true}\n",
       ")\n",
       "\n",
       "window.addEventListener('resize', function() {\n",
       "  Plotly.Plots.resize(document.getElementById('75199038-f6e7-49ee-b63a-83bac1f800b0'))\n",
       "})\n",
       " }) \n",
       "</script>"
      ],
      "text/plain": [
       "#<Plotly::Offline::HTML:0x00007fd82e4467a0 @id=\"75199038-f6e7-49ee-b63a-83bac1f800b0\", @data=[{:type=>:table, :header=>{:values=>[:date, :moto_koji, :moromi_koji, :moto, :soe, :naka, :tome, :yodan]}, :cells=>{:values=>[[\"02/20\", \"02/21\", \"02/22\", \"02/23\", \"02/24\", \"02/25\", \"02/26\", \"02/27\", \"02/28\", \"02/29\", \"03/01\", \"03/02\", \"03/03\", \"03/04\", \"03/05\", \"03/06\", \"03/07\", \"03/08\", \"03/09\", \"03/10\", \"03/11\", \"03/12\", \"03/13\", \"03/14\", \"03/15\", \"03/16\", \"03/17\", \"03/18\", \"03/19\", \"03/20\", \"03/21\", \"03/22\", \"03/23\", \"03/24\", \"03/25\", \"03/26\", \"03/27\", \"03/28\", \"03/29\", \"03/30\", \"03/31\", \"04/01\", \"04/02\", \"04/03\", \"04/04\", \"04/05\", \"04/06\", \"04/07\", \"04/08\", \"04/09\", \"04/10\", \"04/11\", \"04/12\", \"04/13\", \"04/14\", \"04/15\"], [\"仕3: 21<br>仕4: 18\", [], [], [], \"仕1: 140\", \"\", [], \"仕2: 128<br>仕5: 21<br>仕6: 18\", [], [], [], \"\", \"\", \"\", \"\", [], \"\", \"\", [], [], \"\", \"\", \"\", \"\", [], [], [], \"\", [], \"\", \"\", [], [], [], [], [], [], [], [], [], [], [], [], [], [], [], [], [], \"\", [], [], [], [], [], [], \"\"], [\"\", [], [], [], \"\", \"\", [], \"\", [], [], [], \"\", \"\", \"\", \"仕3: 183<br>仕4: 162\", [], \"\", \"\", [], [], \"\", \"仕5: 183<br>仕6: 162\", \"\", \"\", [], [], [], \"\", [], \"\", \"\", [], [], [], [], [], [], [], [], [], [], [], [], [], [], [], [], [], \"\", [], [], [], [], [], [], \"\"], [\"\", [], [], [], \"\", \"仕3: 42<br>仕4: 41\", [], \"\", [], [], [], \"\", \"仕5: 42<br>仕6: 41\", \"\", \"\", [], \"\", \"\", [], [], \"\", \"\", \"\", \"\", [], [], [], \"\", [], \"\", \"\", [], [], [], [], [], [], [], [], [], [], [], [], [], [], [], [], [], \"\", [], [], [], [], [], [], \"\"], [\"\", [], [], [], \"\", \"\", [], \"\", [], [], [], \"仕1: 65\", \"\", \"\", \"仕2: 60\", [], \"\", \"\", [], [], \"仕3: 98<br>仕4: 90\", \"\", \"\", \"\", [], [], [], \"仕5: 98<br>仕6: 90\", [], \"\", \"\", [], [], [], [], [], [], [], [], [], [], [], [], [], [], [], [], [], \"\", [], [], [], [], [], [], \"\"], [\"\", [], [], [], \"\", \"\", [], \"\", [], [], [], \"\", \"\", \"仕1: 150\", \"\", [], \"仕2: 138\", \"\", [], [], \"\", \"\", \"仕3: 190<br>仕4: 194\", \"\", [], [], [], \"\", [], \"仕5: 190<br>仕6: 194\", \"\", [], [], [], [], [], [], [], [], [], [], [], [], [], [], [], [], [], \"\", [], [], [], [], [], [], \"\"], [\"\", [], [], [], \"\", \"\", [], \"\", [], [], [], \"\", \"\", \"\", \"仕1: 245\", [], \"\", \"仕2: 225\", [], [], \"\", \"\", \"\", \"仕3: 366<br>仕4: 324\", [], [], [], \"\", [], \"\", \"仕5: 366<br>仕6: 324\", [], [], [], [], [], [], [], [], [], [], [], [], [], [], [], [], [], \"\", [], [], [], [], [], [], \"\"], [\"\", [], [], [], \"\", \"\", [], \"\", [], [], [], \"\", \"\", \"\", \"\", [], \"\", \"\", [], [], \"\", \"\", \"\", \"\", [], [], [], \"\", [], \"\", \"\", [], [], [], [], [], [], [], [], [], [], [], [], [], [], [], [], [], \"仕4: 72\", [], [], [], [], [], [], \"仕6: 72\"]]}}], @layout={:height=>1000}, @config={:linkText=>\"Export to plot.ly\", :showLink=>true}, @embedded=true>"
      ]
     },
     "metadata": {},
     "output_type": "display_data"
    },
    {
     "data": {
      "text/plain": [
       "#<CZTop::Socket::PUB:0x7fd82d63e9f0 last_endpoint=\"tcp://127.0.0.1:61250\">"
      ]
     },
     "execution_count": 1,
     "metadata": {},
     "output_type": "execute_result"
    }
   ],
   "source": [
    "$LOAD_PATH << File.dirname(__FILE__) + \"/../lib\"\n",
    "require 'toji'\n",
    "require './example_core'\n",
    "require 'rbplotly'\n",
    "\n",
    "cal = Example::Calendar.load_yaml_file(\"calendar.yaml\")\n",
    "\n",
    "cal.products.each {|product|\n",
    "  puts \"%s %s\" % [product.name, product.description]\n",
    "  \n",
    "  product.recipe.table.tap {|t|\n",
    "    t.layout.height = 350\n",
    "  }.show\n",
    "}\n",
    "\n",
    "cal.table.tap {|t|\n",
    "  t.layout.height = 1000\n",
    "}.show"
   ]
  },
  {
   "cell_type": "code",
   "execution_count": null,
   "metadata": {},
   "outputs": [],
   "source": []
  }
 ],
 "metadata": {
  "kernelspec": {
   "display_name": "Ruby 2.7.1",
   "language": "ruby",
   "name": "ruby"
  },
  "language_info": {
   "file_extension": ".rb",
   "mimetype": "application/x-ruby",
   "name": "ruby",
   "version": "2.6.3"
  }
 },
 "nbformat": 4,
 "nbformat_minor": 2
}
